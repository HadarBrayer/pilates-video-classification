{
  "nbformat": 4,
  "nbformat_minor": 0,
  "metadata": {
    "accelerator": "GPU",
    "colab": {
      "name": "Baseline as of Aug 20.ipynb",
      "provenance": []
    },
    "hide_input": false,
    "kernelspec": {
      "display_name": "Python 3 (ipykernel)",
      "language": "python",
      "name": "python3"
    },
    "language_info": {
      "codemirror_mode": {
        "name": "ipython",
        "version": 3
      },
      "file_extension": ".py",
      "mimetype": "text/x-python",
      "name": "python",
      "nbconvert_exporter": "python",
      "pygments_lexer": "ipython3",
      "version": "3.7.10"
    },
    "latex_envs": {
      "LaTeX_envs_menu_present": true,
      "autoclose": false,
      "autocomplete": true,
      "bibliofile": "biblio.bib",
      "cite_by": "apalike",
      "current_citInitial": 1,
      "eqLabelWithNumbers": true,
      "eqNumInitial": 1,
      "hotkeys": {
        "equation": "Ctrl-E",
        "itemize": "Ctrl-I"
      },
      "labels_anchors": false,
      "latex_user_defs": false,
      "report_style_numbering": false,
      "user_envs_cfg": false
    },
    "toc": {
      "base_numbering": 1,
      "nav_menu": {},
      "number_sections": true,
      "sideBar": true,
      "skip_h1_title": false,
      "title_cell": "Table of Contents",
      "title_sidebar": "Contents",
      "toc_cell": false,
      "toc_position": {},
      "toc_section_display": true,
      "toc_window_display": false
    },
    "varInspector": {
      "cols": {
        "lenName": 16,
        "lenType": 16,
        "lenVar": 40
      },
      "kernels_config": {
        "python": {
          "delete_cmd_postfix": "",
          "delete_cmd_prefix": "del ",
          "library": "var_list.py",
          "varRefreshCmd": "print(var_dic_list())"
        },
        "r": {
          "delete_cmd_postfix": ") ",
          "delete_cmd_prefix": "rm(",
          "library": "var_list.r",
          "varRefreshCmd": "cat(var_dic_list()) "
        }
      },
      "types_to_exclude": [
        "module",
        "function",
        "builtin_function_or_method",
        "instance",
        "_Feature"
      ],
      "window_display": false
    }
  },
  "cells": [
    {
      "cell_type": "code",
      "metadata": {
        "colab": {
          "base_uri": "https://localhost:8080/"
        },
        "id": "MBFDawXcofQT",
        "outputId": "d2d15e59-2825-4681-950a-d2b59b07c5b9"
      },
      "source": [
        "from google.colab import drive\n",
        "drive.mount('/content/drive')"
      ],
      "execution_count": null,
      "outputs": [
        {
          "output_type": "stream",
          "name": "stdout",
          "text": [
            "Mounted at /content/drive\n"
          ]
        }
      ]
    },
    {
      "cell_type": "code",
      "metadata": {
        "id": "pMWp5gm6olVG"
      },
      "source": [
        "!cp /content/drive/MyDrive/videos.zip /content/\n",
        "!cp /content/drive/MyDrive/validation_set.zip /content/"
      ],
      "execution_count": null,
      "outputs": []
    },
    {
      "cell_type": "code",
      "metadata": {
        "colab": {
          "base_uri": "https://localhost:8080/"
        },
        "id": "s2YXUFFYolI0",
        "outputId": "2f3a6a00-636f-42bc-d0eb-a906d3f4b44a"
      },
      "source": [
        "!unzip videos.zip -d videos -x \"*.txt\""
      ],
      "execution_count": null,
      "outputs": [
        {
          "output_type": "stream",
          "name": "stdout",
          "text": [
            "Archive:  videos.zip\n",
            "  inflating: videos/criss_cross/0a2L7tfx8XbU.mkv  \n",
            "  inflating: videos/criss_cross/13a2L7tfx8XbU.mkv  \n",
            "  inflating: videos/criss_cross/14a2L7tfx8XbU.mkv  \n",
            "  inflating: videos/criss_cross/15a2L7tfx8XbU.mkv  \n",
            "  inflating: videos/criss_cross/16BSMS3ER8KqU.mkv  \n",
            "  inflating: videos/criss_cross/17uXqTDoitR8k.mkv  \n",
            "  inflating: videos/criss_cross/187trwOZKNFCw.mkv  \n",
            "  inflating: videos/criss_cross/1gzaCxDVQL90.mkv  \n",
            "  inflating: videos/criss_cross/207trwOZKNFCw.mkv  \n",
            "  inflating: videos/criss_cross/217trwOZKNFCw.mkv  \n",
            "  inflating: videos/criss_cross/22o2aamD_J8AM.mkv  \n",
            "  inflating: videos/criss_cross/23CvBktaDUJhI.mkv  \n",
            "  inflating: videos/criss_cross/24CvBktaDUJhI.mkv  \n",
            "  inflating: videos/criss_cross/25CvBktaDUJhI.mkv  \n",
            "  inflating: videos/criss_cross/26A7GFt-E5gAU.mkv  \n",
            "  inflating: videos/criss_cross/27A7GFt-E5gAU.mkv  \n",
            "  inflating: videos/criss_cross/285JNwhyhpoow.mkv  \n",
            "  inflating: videos/criss_cross/30UDXfEmHyxJw.mkv  \n",
            "  inflating: videos/criss_cross/31Nf4Fg0ZjfnM.mkv  \n",
            "  inflating: videos/criss_cross/33QL7Te83ONis.mkv  \n",
            "  inflating: videos/criss_cross/34QL7Te83ONis.mkv  \n",
            "  inflating: videos/criss_cross/35QL7Te83ONis.mkv  \n",
            "  inflating: videos/criss_cross/36QL7Te83ONis.mkv  \n",
            "  inflating: videos/criss_cross/37QL7Te83ONis.mkv  \n",
            "  inflating: videos/criss_cross/38QL7Te83ONis.mkv  \n",
            "  inflating: videos/criss_cross/395vmNFEOXfBU.mkv  \n",
            "  inflating: videos/criss_cross/3xZ7tpUl4qFs.mkv  \n",
            "  inflating: videos/criss_cross/41K-PpDkbcNGo.mkv  \n",
            "  inflating: videos/criss_cross/45SvRSTTl5jII.mkv  \n",
            "  inflating: videos/criss_cross/46SvRSTTl5jII.mkv  \n",
            "  inflating: videos/criss_cross/47SvRSTTl5jII.mkv  \n",
            "  inflating: videos/criss_cross/48gzaCxDVQL90.mkv  \n",
            "  inflating: videos/criss_cross/5dJ1sl33ZXm0.mkv  \n",
            "  inflating: videos/criss_cross/6dJ1sl33ZXm0.mkv  \n",
            "  inflating: videos/criss_cross/9a2L7tfx8XbU.mkv  \n",
            "  inflating: videos/double_leg/10tcmVO1JudM0.mkv  \n",
            "  inflating: videos/double_leg/11tcmVO1JudM0.mkv  \n",
            "  inflating: videos/double_leg/12tcmVO1JudM0.mkv  \n",
            "  inflating: videos/double_leg/13ED5UzVr7gkw.mkv  \n",
            "  inflating: videos/double_leg/14fKcAu0nrmgo.mkv  \n",
            "  inflating: videos/double_leg/15fKcAu0nrmgo.mkv  \n",
            "  inflating: videos/double_leg/16fKcAu0nrmgo.mkv  \n",
            "  inflating: videos/double_leg/17fKcAu0nrmgo.mkv  \n",
            "  inflating: videos/double_leg/18fKcAu0nrmgo.mkv  \n",
            "  inflating: videos/double_leg/19fKcAu0nrmgo.mkv  \n",
            "  inflating: videos/double_leg/1N-jZas9tMSU.mkv  \n",
            "  inflating: videos/double_leg/20fKcAu0nrmgo.mkv  \n",
            "  inflating: videos/double_leg/21fKcAu0nrmgo.mkv  \n",
            "  inflating: videos/double_leg/22Q7cq63qL21U.mkv  \n",
            "  inflating: videos/double_leg/23rgsLlb8SrMc.mkv  \n",
            "  inflating: videos/double_leg/24rgsLlb8SrMc.mkv  \n",
            "  inflating: videos/double_leg/26rgsLlb8SrMc.mkv  \n",
            "  inflating: videos/double_leg/27rP8UkgC0B6I.mkv  \n",
            "  inflating: videos/double_leg/29rP8UkgC0B6I.mkv  \n",
            "  inflating: videos/double_leg/2N-jZas9tMSU.mkv  \n",
            "  inflating: videos/double_leg/30rP8UkgC0B6I.mkv  \n",
            "  inflating: videos/double_leg/32SbAzXngP480.mkv  \n",
            "  inflating: videos/double_leg/33SbAzXngP480.mkv  \n",
            "  inflating: videos/double_leg/35SbAzXngP480.mkv  \n",
            "  inflating: videos/double_leg/36SbAzXngP480.mkv  \n",
            "  inflating: videos/double_leg/37AqpGGhLEWfk.mkv  \n",
            "  inflating: videos/double_leg/39AqpGGhLEWfk.mkv  \n",
            "  inflating: videos/double_leg/3fuwzt4d7FuY.mkv  \n",
            "  inflating: videos/double_leg/42jRKK0iSyDcI.mkv  \n",
            "  inflating: videos/double_leg/43jRKK0iSyDcI.mkv  \n",
            "  inflating: videos/double_leg/45jRKK0iSyDcI.mkv  \n",
            "  inflating: videos/double_leg/47uKop_df4gA0.mkv  \n",
            "  inflating: videos/double_leg/48uKop_df4gA0.mkv  \n",
            "  inflating: videos/double_leg/49uKop_df4gA0.mkv  \n",
            "  inflating: videos/double_leg/4fuwzt4d7FuY.mkv  \n",
            "  inflating: videos/double_leg/5fuwzt4d7FuY.mkv  \n",
            "  inflating: videos/double_leg/6fuwzt4d7FuY.mkv  \n",
            "  inflating: videos/double_leg/8fuwzt4d7FuY.mkv  \n",
            "  inflating: videos/double_leg/9tcmVO1JudM0.mkv  \n",
            "  inflating: videos/rollup/0VVwR5uEOYA0.mkv  \n",
            "  inflating: videos/rollup/12Jry0bdT_1_o.mkv  \n",
            "  inflating: videos/rollup/13I1pWz27ln-U.mkv  \n",
            "  inflating: videos/rollup/14cO0QWKTlXy8.mkv  \n",
            "  inflating: videos/rollup/15WnsLNQFCnD8.mkv  \n",
            "  inflating: videos/rollup/16WnsLNQFCnD8.mkv  \n",
            "  inflating: videos/rollup/17WnsLNQFCnD8.mkv  \n",
            "  inflating: videos/rollup/186VnqrCTRUE4.mkv  \n",
            "  inflating: videos/rollup/196VnqrCTRUE4.mkv  \n",
            "  inflating: videos/rollup/20ZyudkfWzDI0.mkv  \n",
            "  inflating: videos/rollup/21fsSWSl-ty2E.mkv  \n",
            "  inflating: videos/rollup/22fsSWSl-ty2E.mkv  \n",
            "  inflating: videos/rollup/23KFJJfam7rzU.mkv  \n",
            "  inflating: videos/rollup/25XlDEz_vuthg.mkv  \n",
            "  inflating: videos/rollup/26VM_PfSOMtwU.mkv  \n",
            "  inflating: videos/rollup/27hd8iuKlp_iM.mkv  \n",
            "  inflating: videos/rollup/28xOsDDsw3Yr4.mkv  \n",
            "  inflating: videos/rollup/29xOsDDsw3Yr4.mkv  \n",
            "  inflating: videos/rollup/2H_-JE2yN1W0.mkv  \n",
            "  inflating: videos/rollup/30xOsDDsw3Yr4.mkv  \n",
            "  inflating: videos/rollup/31QXZ4GZI9XfI.mkv  \n",
            "  inflating: videos/rollup/33uxPui1FuYYk.mkv  \n",
            "  inflating: videos/rollup/34o8ErEagx1A4.mkv  \n",
            "  inflating: videos/rollup/35RtIol4onz4g.mkv  \n",
            "  inflating: videos/rollup/36RtIol4onz4g.mkv  \n",
            "  inflating: videos/rollup/37wVEVSjYpJP4.mkv  \n",
            "  inflating: videos/rollup/38Dyum_-zLp74.mkv  \n",
            "  inflating: videos/rollup/40Dyum_-zLp74.mkv  \n",
            "  inflating: videos/rollup/41mjU6LEgcBdc.mkv  \n",
            "  inflating: videos/rollup/42CKInyjVf2lg.mkv  \n",
            "  inflating: videos/rollup/43CKInyjVf2lg.mkv  \n",
            "  inflating: videos/rollup/44z273-hUsvEg.mkv  \n",
            "  inflating: videos/rollup/451Y5KYlCWvdI.mkv  \n",
            "  inflating: videos/rollup/46Rf2XfG66MxM.mkv  \n",
            "  inflating: videos/rollup/47l1CmIYGCgyU.mkv  \n",
            "  inflating: videos/rollup/48jIt5PdXtkSQ.mkv  \n",
            "  inflating: videos/rollup/49l_rSeNryizA.mkv  \n",
            "  inflating: videos/rollup/50l_rSeNryizA.mkv  \n",
            "  inflating: videos/rollup/5D9a_qJp2rH0.mkv  \n",
            "  inflating: videos/rollup/6wjbN81QqNZs.mkv  \n",
            "  inflating: videos/rollup/7wjbN81QqNZs.mkv  \n",
            "  inflating: videos/rollup/8__f7Jx0b_kI.mkv  \n",
            "  inflating: videos/rollup/9__f7Jx0b_kI.mkv  \n"
          ]
        }
      ]
    },
    {
      "cell_type": "code",
      "metadata": {
        "colab": {
          "base_uri": "https://localhost:8080/"
        },
        "id": "Di_FVUOLo___",
        "outputId": "2ca320ef-e5fb-447e-95ab-d4692fc2c5ab"
      },
      "source": [
        "!unzip validation_set.zip"
      ],
      "execution_count": null,
      "outputs": [
        {
          "output_type": "stream",
          "name": "stdout",
          "text": [
            "Archive:  validation_set.zip\n",
            "   creating: validation/criss_cross/\n",
            "  inflating: validation/criss_cross/0BSMS3ER8KqU.mkv  \n",
            "  inflating: validation/criss_cross/10fQiCxMwfjX0.mkv  \n",
            "  inflating: validation/criss_cross/11fQiCxMwfjX0.mkv  \n",
            "  inflating: validation/criss_cross/13VYDOWnxqqyk.mkv  \n",
            "  inflating: validation/criss_cross/14VYDOWnxqqyk.mkv  \n",
            "  inflating: validation/criss_cross/15VYDOWnxqqyk.mkv  \n",
            "  inflating: validation/criss_cross/16scvPiteYVWw.mkv  \n",
            "  inflating: validation/criss_cross/17scvPiteYVWw.mkv  \n",
            "  inflating: validation/criss_cross/18scvPiteYVWw.mkv  \n",
            "  inflating: validation/criss_cross/1BSMS3ER8KqU.mkv  \n",
            "  inflating: validation/criss_cross/2BSMS3ER8KqU.mkv  \n",
            "  inflating: validation/criss_cross/4D2Xp6LmwYPY.mkv  \n",
            "  inflating: validation/criss_cross/5o2aamD_J8AM.mkv  \n",
            "  inflating: validation/criss_cross/6CzZnlEf-Y8A.mkv  \n",
            "  inflating: validation/criss_cross/7fQiCxMwfjX0.mkv  \n",
            "  inflating: validation/criss_cross/9fQiCxMwfjX0.mkv  \n",
            "   creating: validation/double_leg/\n",
            "  inflating: validation/double_leg/0UdSPPzC4ZEs.mkv  \n",
            "  inflating: validation/double_leg/10Km1YxK4MO-I.mkv  \n",
            "  inflating: validation/double_leg/11Km1YxK4MO-I.mkv  \n",
            "  inflating: validation/double_leg/12Km1YxK4MO-I.mkv  \n",
            "  inflating: validation/double_leg/13c6NqE82Pkpg.mkv  \n",
            "  inflating: validation/double_leg/14c6NqE82Pkpg.mkv  \n",
            "  inflating: validation/double_leg/16c6NqE82Pkpg.mkv  \n",
            "  inflating: validation/double_leg/2UdSPPzC4ZEs.mkv  \n",
            "  inflating: validation/double_leg/3UdSPPzC4ZEs.mkv  \n",
            "  inflating: validation/double_leg/4UdSPPzC4ZEs.mkv  \n",
            "  inflating: validation/double_leg/5UdSPPzC4ZEs.mkv  \n",
            "  inflating: validation/double_leg/6UdSPPzC4ZEs.mkv  \n",
            "  inflating: validation/double_leg/7q0FDZiwkCek.mkv  \n",
            "  inflating: validation/double_leg/8q0FDZiwkCek.mkv  \n",
            "  inflating: validation/double_leg/9q0FDZiwkCek.mkv  \n",
            "   creating: validation/rollup/\n",
            "  inflating: validation/rollup/0HB9ex7zlpcE.mkv  \n",
            "  inflating: validation/rollup/1HB9ex7zlpcE.mkv  \n",
            "  inflating: validation/rollup/2FZNwIJ03fhQ.mkv  \n",
            "  inflating: validation/rollup/3K1wldTaylZU.mkv  \n",
            "  inflating: validation/rollup/4NwYyamStxB4.mkv  \n",
            "  inflating: validation/rollup/5NwYyamStxB4.mkv  \n",
            "  inflating: validation/rollup/6QCXlenJqEoc.mkv  \n",
            "  inflating: validation/rollup/7S7kw7kU2hrI.mkv  \n",
            "  inflating: validation/rollup/8S7kw7kU2hrI.mkv  \n",
            "  inflating: validation/rollup/9S7kw7kU2hrI.mkv  \n"
          ]
        }
      ]
    },
    {
      "cell_type": "code",
      "metadata": {
        "ExecuteTime": {
          "end_time": "2021-08-20T08:37:37.076410Z",
          "start_time": "2021-08-20T08:37:35.116765Z"
        },
        "id": "-CO7RTj8rymD"
      },
      "source": [
        "import pandas as pd\n",
        "from sklearn.model_selection import train_test_split\n",
        "import os\n",
        "from tqdm import tqdm\n",
        "import cv2\n",
        "import math\n",
        "from glob import glob\n"
      ],
      "execution_count": null,
      "outputs": []
    },
    {
      "cell_type": "code",
      "metadata": {
        "ExecuteTime": {
          "end_time": "2021-08-20T09:20:31.535119Z",
          "start_time": "2021-08-20T09:20:31.532725Z"
        },
        "id": "Ss1IbvdYobxw"
      },
      "source": [
        "from scipy import stats"
      ],
      "execution_count": null,
      "outputs": []
    },
    {
      "cell_type": "code",
      "metadata": {
        "ExecuteTime": {
          "end_time": "2021-08-20T08:37:37.084727Z",
          "start_time": "2021-08-20T08:37:37.078014Z"
        },
        "id": "RB0_V2NKwQOg",
        "scrolled": true
      },
      "source": [
        "\n",
        "videos_path = './videos'\n",
        "\n",
        "videos_folder = os.listdir(videos_path)\n",
        "\n",
        "videos_tags_list = []\n",
        "for exercise_folder in os.listdir(path=videos_path):\n",
        "    if not exercise_folder.startswith('.'):  # skip hidden files\n",
        "        for video in os.listdir(path=f'{videos_path}/{exercise_folder}'):\n",
        "            videos_tags_list.append({'Name': video, 'Tag': exercise_folder})           \n",
        "df = pd.DataFrame(data=videos_tags_list)\n"
      ],
      "execution_count": null,
      "outputs": []
    },
    {
      "cell_type": "code",
      "metadata": {
        "ExecuteTime": {
          "end_time": "2021-08-20T10:06:51.032783Z",
          "start_time": "2021-08-20T10:06:51.024848Z"
        },
        "id": "JK0FXSmGobxx"
      },
      "source": [
        "df = df.drop(index=[117,118,119])"
      ],
      "execution_count": null,
      "outputs": []
    },
    {
      "cell_type": "code",
      "metadata": {
        "ExecuteTime": {
          "end_time": "2021-08-20T08:37:37.094475Z",
          "start_time": "2021-08-20T08:37:37.087006Z"
        },
        "id": "WHYwDLaf16gi",
        "colab": {
          "base_uri": "https://localhost:8080/"
        },
        "outputId": "7cdb2d70-354f-457c-86ab-36b11b7f516a"
      },
      "source": [
        "df.shape"
      ],
      "execution_count": null,
      "outputs": [
        {
          "output_type": "execute_result",
          "data": {
            "text/plain": [
              "(117, 2)"
            ]
          },
          "metadata": {},
          "execution_count": 8
        }
      ]
    },
    {
      "cell_type": "code",
      "metadata": {
        "ExecuteTime": {
          "end_time": "2021-08-20T08:37:37.101212Z",
          "start_time": "2021-08-20T08:37:37.096452Z"
        },
        "id": "zn2Yr_3UwNRF"
      },
      "source": [
        "tags = list(df['Tag'].unique())\n",
        "tags = tags[0:3]"
      ],
      "execution_count": null,
      "outputs": []
    },
    {
      "cell_type": "code",
      "metadata": {
        "ExecuteTime": {
          "end_time": "2021-08-20T08:37:37.108222Z",
          "start_time": "2021-08-20T08:37:37.103222Z"
        },
        "id": "TFqYDwVuwNTY"
      },
      "source": [
        "train, test = train_test_split(df, test_size=0.1, stratify=df['Tag'])"
      ],
      "execution_count": null,
      "outputs": []
    },
    {
      "cell_type": "code",
      "metadata": {
        "ExecuteTime": {
          "end_time": "2021-08-20T08:37:37.234356Z",
          "start_time": "2021-08-20T08:37:37.109682Z"
        },
        "id": "7Ic8AQ--5Ulj"
      },
      "source": [
        "%rm -rf train\n"
      ],
      "execution_count": null,
      "outputs": []
    },
    {
      "cell_type": "code",
      "metadata": {
        "ExecuteTime": {
          "end_time": "2021-08-20T08:37:37.238676Z",
          "start_time": "2021-08-20T08:37:37.236193Z"
        },
        "id": "_r-QsP9Xz7Sq"
      },
      "source": [
        "os.mkdir(f'{videos_path}'+'/'+\"train/\")\n",
        "os.mkdir(f'{videos_path}'+'/'+\"test/\")\n",
        "\n",
        "for tag in tags:\n",
        "  os.mkdir(f'{videos_path}'+'/'+\"train/\"+ tag)\n",
        "  os.mkdir(f'{videos_path}'+'/'+\"test/\"+ tag)\n"
      ],
      "execution_count": null,
      "outputs": []
    },
    {
      "cell_type": "code",
      "metadata": {
        "ExecuteTime": {
          "end_time": "2021-08-20T08:38:09.433973Z",
          "start_time": "2021-08-20T08:37:37.241451Z"
        },
        "colab": {
          "base_uri": "https://localhost:8080/"
        },
        "id": "_GIxicvrulTK",
        "scrolled": true,
        "outputId": "840b9b99-c92b-42e0-9484-b125fa164f27"
      },
      "source": [
        "# storing the frames from training videos\n",
        "count2 = 0\n",
        "for video in tqdm(train.itertuples(index=False)):\n",
        " \n",
        "  count = 0\n",
        "  videoFile = video[0]\n",
        "  tag = video[1]\n",
        "  cap = cv2.VideoCapture(f'{videos_path}/'+f'{tag}'+'/'+videoFile)   # capturing the video from the given path\n",
        "  frameRate = cap.get(5) #frame rate\n",
        "  x=1\n",
        "  while cap.isOpened():\n",
        "    frameId = cap.get(1) #current frame number\n",
        "    ret, frame = cap.read()\n",
        "    if (ret != True):\n",
        "      break\n",
        "    if (frameId % math.floor(frameRate) == 0):\n",
        "      # storing the frames in a new folder named train_1\n",
        "      \n",
        "      filename =f'{videos_path}'+'/train/' +f'{tag}/'+f\"video{count2}_frame%d.jpg\" % count; count+=1\n",
        "      print(filename)\n",
        "      cv2.imwrite(filename, frame)\n",
        "  count2 += 1\n",
        "cap.release()"
      ],
      "execution_count": null,
      "outputs": [
        {
          "output_type": "stream",
          "name": "stderr",
          "text": [
            "\r0it [00:00, ?it/s]"
          ]
        },
        {
          "output_type": "stream",
          "name": "stdout",
          "text": [
            "./videos/train/rollup/video0_frame0.jpg\n",
            "./videos/train/rollup/video0_frame1.jpg\n",
            "./videos/train/rollup/video0_frame2.jpg\n",
            "./videos/train/rollup/video0_frame3.jpg\n",
            "./videos/train/rollup/video0_frame4.jpg\n",
            "./videos/train/rollup/video0_frame5.jpg\n",
            "./videos/train/rollup/video0_frame6.jpg\n",
            "./videos/train/rollup/video0_frame7.jpg\n",
            "./videos/train/rollup/video0_frame8.jpg\n",
            "./videos/train/rollup/video0_frame9.jpg\n"
          ]
        },
        {
          "output_type": "stream",
          "name": "stderr",
          "text": [
            "\r1it [00:01,  1.34s/it]"
          ]
        },
        {
          "output_type": "stream",
          "name": "stdout",
          "text": [
            "./videos/train/rollup/video1_frame0.jpg\n",
            "./videos/train/rollup/video1_frame1.jpg\n",
            "./videos/train/rollup/video1_frame2.jpg\n",
            "./videos/train/rollup/video1_frame3.jpg\n",
            "./videos/train/rollup/video1_frame4.jpg\n",
            "./videos/train/rollup/video1_frame5.jpg\n"
          ]
        },
        {
          "output_type": "stream",
          "name": "stderr",
          "text": [
            "\r2it [00:02,  1.09s/it]"
          ]
        },
        {
          "output_type": "stream",
          "name": "stdout",
          "text": [
            "./videos/train/rollup/video1_frame6.jpg\n",
            "./videos/train/criss_cross/video2_frame0.jpg\n"
          ]
        },
        {
          "output_type": "stream",
          "name": "stderr",
          "text": [
            "\r3it [00:02,  1.39it/s]"
          ]
        },
        {
          "output_type": "stream",
          "name": "stdout",
          "text": [
            "./videos/train/criss_cross/video2_frame1.jpg\n",
            "./videos/train/criss_cross/video2_frame2.jpg\n",
            "./videos/train/double_leg/video3_frame0.jpg\n",
            "./videos/train/double_leg/video3_frame1.jpg\n"
          ]
        },
        {
          "output_type": "stream",
          "name": "stderr",
          "text": [
            "\r4it [00:02,  2.09it/s]"
          ]
        },
        {
          "output_type": "stream",
          "name": "stdout",
          "text": [
            "./videos/train/double_leg/video3_frame2.jpg\n",
            "./videos/train/double_leg/video3_frame3.jpg\n",
            "./videos/train/double_leg/video3_frame4.jpg\n",
            "./videos/train/rollup/video4_frame0.jpg\n",
            "./videos/train/rollup/video4_frame1.jpg\n",
            "./videos/train/rollup/video4_frame2.jpg\n",
            "./videos/train/rollup/video4_frame3.jpg\n",
            "./videos/train/rollup/video4_frame4.jpg\n",
            "./videos/train/rollup/video4_frame5.jpg\n",
            "./videos/train/rollup/video4_frame6.jpg\n",
            "./videos/train/rollup/video4_frame7.jpg\n",
            "./videos/train/rollup/video4_frame8.jpg\n",
            "./videos/train/rollup/video4_frame9.jpg\n",
            "./videos/train/rollup/video4_frame10.jpg\n"
          ]
        },
        {
          "output_type": "stream",
          "name": "stderr",
          "text": [
            "\r5it [00:03,  1.33it/s]"
          ]
        },
        {
          "output_type": "stream",
          "name": "stdout",
          "text": [
            "./videos/train/rollup/video4_frame11.jpg\n",
            "./videos/train/rollup/video4_frame12.jpg\n",
            "./videos/train/rollup/video5_frame0.jpg\n",
            "./videos/train/rollup/video5_frame1.jpg\n",
            "./videos/train/rollup/video5_frame2.jpg\n",
            "./videos/train/rollup/video5_frame3.jpg\n",
            "./videos/train/rollup/video5_frame4.jpg\n",
            "./videos/train/rollup/video5_frame5.jpg\n",
            "./videos/train/rollup/video5_frame6.jpg\n",
            "./videos/train/rollup/video5_frame7.jpg\n",
            "./videos/train/rollup/video5_frame8.jpg\n",
            "./videos/train/rollup/video5_frame9.jpg\n",
            "./videos/train/rollup/video5_frame10.jpg\n",
            "./videos/train/rollup/video5_frame11.jpg\n",
            "./videos/train/rollup/video5_frame12.jpg\n",
            "./videos/train/rollup/video5_frame13.jpg\n",
            "./videos/train/rollup/video5_frame14.jpg\n",
            "./videos/train/rollup/video5_frame15.jpg\n",
            "./videos/train/rollup/video5_frame16.jpg\n",
            "./videos/train/rollup/video5_frame17.jpg\n",
            "./videos/train/rollup/video5_frame18.jpg\n",
            "./videos/train/rollup/video5_frame19.jpg\n",
            "./videos/train/rollup/video5_frame20.jpg\n",
            "./videos/train/rollup/video5_frame21.jpg\n",
            "./videos/train/rollup/video5_frame22.jpg\n",
            "./videos/train/rollup/video5_frame23.jpg\n",
            "./videos/train/rollup/video5_frame24.jpg\n",
            "./videos/train/rollup/video5_frame25.jpg\n",
            "./videos/train/rollup/video5_frame26.jpg\n",
            "./videos/train/rollup/video5_frame27.jpg\n",
            "./videos/train/rollup/video5_frame28.jpg\n",
            "./videos/train/rollup/video5_frame29.jpg\n",
            "./videos/train/rollup/video5_frame30.jpg\n",
            "./videos/train/rollup/video5_frame31.jpg\n",
            "./videos/train/rollup/video5_frame32.jpg\n",
            "./videos/train/rollup/video5_frame33.jpg\n",
            "./videos/train/rollup/video5_frame34.jpg\n"
          ]
        },
        {
          "output_type": "stream",
          "name": "stderr",
          "text": [
            "\r6it [00:07,  1.90s/it]"
          ]
        },
        {
          "output_type": "stream",
          "name": "stdout",
          "text": [
            "./videos/train/rollup/video5_frame35.jpg\n",
            "./videos/train/rollup/video5_frame36.jpg\n",
            "./videos/train/criss_cross/video6_frame0.jpg\n",
            "./videos/train/double_leg/video7_frame0.jpg\n",
            "./videos/train/double_leg/video7_frame1.jpg\n"
          ]
        },
        {
          "output_type": "stream",
          "name": "stderr",
          "text": [
            "\r8it [00:08,  1.06s/it]"
          ]
        },
        {
          "output_type": "stream",
          "name": "stdout",
          "text": [
            "./videos/train/double_leg/video7_frame2.jpg\n",
            "./videos/train/double_leg/video8_frame0.jpg\n",
            "./videos/train/double_leg/video8_frame1.jpg\n"
          ]
        },
        {
          "output_type": "stream",
          "name": "stderr",
          "text": [
            "\r9it [00:08,  1.20it/s]"
          ]
        },
        {
          "output_type": "stream",
          "name": "stdout",
          "text": [
            "./videos/train/rollup/video9_frame0.jpg\n",
            "./videos/train/rollup/video9_frame1.jpg\n",
            "./videos/train/rollup/video9_frame2.jpg\n",
            "./videos/train/rollup/video9_frame3.jpg\n",
            "./videos/train/rollup/video9_frame4.jpg\n",
            "./videos/train/rollup/video9_frame5.jpg\n",
            "./videos/train/rollup/video9_frame6.jpg\n",
            "./videos/train/rollup/video9_frame7.jpg\n",
            "./videos/train/rollup/video9_frame8.jpg\n",
            "./videos/train/rollup/video9_frame9.jpg\n",
            "./videos/train/rollup/video9_frame10.jpg\n",
            "./videos/train/rollup/video9_frame11.jpg\n",
            "./videos/train/rollup/video9_frame12.jpg\n",
            "./videos/train/rollup/video9_frame13.jpg\n",
            "./videos/train/rollup/video9_frame14.jpg\n"
          ]
        },
        {
          "output_type": "stream",
          "name": "stderr",
          "text": [
            "\r10it [00:10,  1.02s/it]"
          ]
        },
        {
          "output_type": "stream",
          "name": "stdout",
          "text": [
            "./videos/train/rollup/video9_frame15.jpg\n",
            "./videos/train/rollup/video9_frame16.jpg\n",
            "./videos/train/double_leg/video10_frame0.jpg\n",
            "./videos/train/double_leg/video10_frame1.jpg\n",
            "./videos/train/double_leg/video10_frame2.jpg\n",
            "./videos/train/double_leg/video10_frame3.jpg\n"
          ]
        },
        {
          "output_type": "stream",
          "name": "stderr",
          "text": [
            "12it [00:10,  1.58it/s]"
          ]
        },
        {
          "output_type": "stream",
          "name": "stdout",
          "text": [
            "./videos/train/double_leg/video11_frame0.jpg\n",
            "./videos/train/double_leg/video11_frame1.jpg\n",
            "./videos/train/double_leg/video11_frame2.jpg\n",
            "./videos/train/double_leg/video11_frame3.jpg\n",
            "./videos/train/double_leg/video11_frame4.jpg\n",
            "./videos/train/rollup/video12_frame0.jpg\n",
            "./videos/train/rollup/video12_frame1.jpg\n",
            "./videos/train/rollup/video12_frame2.jpg\n",
            "./videos/train/rollup/video12_frame3.jpg\n",
            "./videos/train/rollup/video12_frame4.jpg\n"
          ]
        },
        {
          "output_type": "stream",
          "name": "stderr",
          "text": [
            "\r13it [00:11,  1.47it/s]"
          ]
        },
        {
          "output_type": "stream",
          "name": "stdout",
          "text": [
            "./videos/train/rollup/video12_frame5.jpg\n",
            "./videos/train/rollup/video12_frame6.jpg\n",
            "./videos/train/double_leg/video13_frame0.jpg\n",
            "./videos/train/double_leg/video13_frame1.jpg\n",
            "./videos/train/double_leg/video13_frame2.jpg\n"
          ]
        },
        {
          "output_type": "stream",
          "name": "stderr",
          "text": [
            "\r14it [00:11,  1.66it/s]"
          ]
        },
        {
          "output_type": "stream",
          "name": "stdout",
          "text": [
            "./videos/train/double_leg/video13_frame3.jpg\n",
            "./videos/train/double_leg/video14_frame0.jpg\n",
            "./videos/train/double_leg/video14_frame1.jpg\n"
          ]
        },
        {
          "output_type": "stream",
          "name": "stderr",
          "text": [
            "\r15it [00:12,  1.98it/s]"
          ]
        },
        {
          "output_type": "stream",
          "name": "stdout",
          "text": [
            "./videos/train/double_leg/video14_frame2.jpg\n",
            "./videos/train/double_leg/video15_frame0.jpg\n",
            "./videos/train/double_leg/video16_frame0.jpg\n"
          ]
        },
        {
          "output_type": "stream",
          "name": "stderr",
          "text": [
            "\r17it [00:12,  2.82it/s]"
          ]
        },
        {
          "output_type": "stream",
          "name": "stdout",
          "text": [
            "./videos/train/double_leg/video16_frame1.jpg\n",
            "./videos/train/double_leg/video16_frame2.jpg\n",
            "./videos/train/rollup/video17_frame0.jpg\n",
            "./videos/train/rollup/video17_frame1.jpg\n"
          ]
        },
        {
          "output_type": "stream",
          "name": "stderr",
          "text": [
            "\r18it [00:12,  3.01it/s]"
          ]
        },
        {
          "output_type": "stream",
          "name": "stdout",
          "text": [
            "./videos/train/rollup/video17_frame2.jpg\n",
            "./videos/train/rollup/video17_frame3.jpg\n",
            "./videos/train/rollup/video17_frame4.jpg\n",
            "./videos/train/rollup/video17_frame5.jpg\n",
            "./videos/train/rollup/video17_frame6.jpg\n",
            "./videos/train/rollup/video17_frame7.jpg\n",
            "./videos/train/criss_cross/video18_frame0.jpg\n",
            "./videos/train/criss_cross/video18_frame1.jpg\n",
            "./videos/train/criss_cross/video18_frame2.jpg\n"
          ]
        },
        {
          "output_type": "stream",
          "name": "stderr",
          "text": [
            "20it [00:13,  3.49it/s]"
          ]
        },
        {
          "output_type": "stream",
          "name": "stdout",
          "text": [
            "./videos/train/double_leg/video19_frame0.jpg\n",
            "./videos/train/double_leg/video19_frame1.jpg\n",
            "./videos/train/double_leg/video19_frame2.jpg\n",
            "./videos/train/criss_cross/video20_frame0.jpg\n",
            "./videos/train/criss_cross/video21_frame0.jpg\n",
            "./videos/train/criss_cross/video21_frame1.jpg\n"
          ]
        },
        {
          "output_type": "stream",
          "name": "stderr",
          "text": [
            "\r22it [00:13,  3.78it/s]"
          ]
        },
        {
          "output_type": "stream",
          "name": "stdout",
          "text": [
            "./videos/train/criss_cross/video21_frame2.jpg\n",
            "./videos/train/criss_cross/video21_frame3.jpg\n",
            "./videos/train/criss_cross/video22_frame0.jpg\n",
            "./videos/train/rollup/video23_frame0.jpg\n",
            "./videos/train/rollup/video23_frame1.jpg\n",
            "./videos/train/rollup/video23_frame2.jpg\n",
            "./videos/train/rollup/video23_frame3.jpg\n",
            "./videos/train/rollup/video23_frame4.jpg\n",
            "./videos/train/rollup/video23_frame5.jpg\n",
            "./videos/train/rollup/video23_frame6.jpg\n",
            "./videos/train/rollup/video23_frame7.jpg\n",
            "./videos/train/rollup/video23_frame8.jpg\n",
            "./videos/train/rollup/video23_frame9.jpg\n",
            "./videos/train/rollup/video23_frame10.jpg\n",
            "./videos/train/rollup/video23_frame11.jpg\n",
            "./videos/train/rollup/video23_frame12.jpg\n",
            "./videos/train/rollup/video23_frame13.jpg\n",
            "./videos/train/rollup/video23_frame14.jpg\n",
            "./videos/train/rollup/video23_frame15.jpg\n",
            "./videos/train/rollup/video23_frame16.jpg\n"
          ]
        },
        {
          "output_type": "stream",
          "name": "stderr",
          "text": [
            "\r24it [00:14,  3.49it/s]"
          ]
        },
        {
          "output_type": "stream",
          "name": "stdout",
          "text": [
            "./videos/train/rollup/video23_frame17.jpg\n",
            "./videos/train/rollup/video23_frame18.jpg\n",
            "./videos/train/rollup/video23_frame19.jpg\n",
            "./videos/train/rollup/video23_frame20.jpg\n",
            "./videos/train/rollup/video24_frame0.jpg\n",
            "./videos/train/rollup/video24_frame1.jpg\n",
            "./videos/train/rollup/video24_frame2.jpg\n",
            "./videos/train/rollup/video24_frame3.jpg\n"
          ]
        },
        {
          "output_type": "stream",
          "name": "stderr",
          "text": [
            "\r25it [00:14,  3.51it/s]"
          ]
        },
        {
          "output_type": "stream",
          "name": "stdout",
          "text": [
            "./videos/train/rollup/video24_frame4.jpg\n",
            "./videos/train/rollup/video24_frame5.jpg\n",
            "./videos/train/rollup/video24_frame6.jpg\n",
            "./videos/train/rollup/video24_frame7.jpg\n",
            "./videos/train/rollup/video24_frame8.jpg\n",
            "./videos/train/rollup/video24_frame9.jpg\n",
            "./videos/train/rollup/video24_frame10.jpg\n",
            "./videos/train/double_leg/video25_frame0.jpg\n",
            "./videos/train/double_leg/video25_frame1.jpg\n",
            "./videos/train/double_leg/video25_frame2.jpg\n"
          ]
        },
        {
          "output_type": "stream",
          "name": "stderr",
          "text": [
            "\r26it [00:15,  3.03it/s]"
          ]
        },
        {
          "output_type": "stream",
          "name": "stdout",
          "text": [
            "./videos/train/double_leg/video25_frame3.jpg\n",
            "./videos/train/double_leg/video25_frame4.jpg\n",
            "./videos/train/criss_cross/video26_frame0.jpg\n",
            "./videos/train/criss_cross/video26_frame1.jpg\n",
            "./videos/train/double_leg/video27_frame0.jpg\n",
            "./videos/train/double_leg/video27_frame1.jpg\n",
            "./videos/train/double_leg/video28_frame0.jpg\n",
            "./videos/train/double_leg/video28_frame1.jpg\n"
          ]
        },
        {
          "output_type": "stream",
          "name": "stderr",
          "text": [
            "\r29it [00:15,  4.14it/s]"
          ]
        },
        {
          "output_type": "stream",
          "name": "stdout",
          "text": [
            "./videos/train/double_leg/video28_frame2.jpg\n",
            "./videos/train/double_leg/video28_frame3.jpg\n",
            "./videos/train/rollup/video29_frame0.jpg\n"
          ]
        },
        {
          "output_type": "stream",
          "name": "stderr",
          "text": [
            "\r30it [00:15,  4.22it/s]"
          ]
        },
        {
          "output_type": "stream",
          "name": "stdout",
          "text": [
            "./videos/train/rollup/video29_frame1.jpg\n",
            "./videos/train/rollup/video29_frame2.jpg\n",
            "./videos/train/rollup/video29_frame3.jpg\n",
            "./videos/train/double_leg/video30_frame0.jpg\n"
          ]
        },
        {
          "output_type": "stream",
          "name": "stderr",
          "text": [
            "\r31it [00:15,  4.24it/s]"
          ]
        },
        {
          "output_type": "stream",
          "name": "stdout",
          "text": [
            "./videos/train/double_leg/video30_frame1.jpg\n",
            "./videos/train/rollup/video31_frame0.jpg\n",
            "./videos/train/rollup/video31_frame1.jpg\n",
            "./videos/train/rollup/video31_frame2.jpg\n",
            "./videos/train/rollup/video31_frame3.jpg\n",
            "./videos/train/rollup/video31_frame4.jpg\n",
            "./videos/train/rollup/video31_frame5.jpg\n",
            "./videos/train/rollup/video31_frame6.jpg\n",
            "./videos/train/rollup/video31_frame7.jpg\n",
            "./videos/train/rollup/video31_frame8.jpg\n",
            "./videos/train/rollup/video31_frame9.jpg\n",
            "./videos/train/rollup/video31_frame10.jpg\n",
            "./videos/train/rollup/video31_frame11.jpg\n",
            "./videos/train/rollup/video31_frame12.jpg\n",
            "./videos/train/rollup/video31_frame13.jpg\n",
            "./videos/train/rollup/video31_frame14.jpg\n",
            "./videos/train/rollup/video31_frame15.jpg\n",
            "./videos/train/rollup/video31_frame16.jpg\n"
          ]
        },
        {
          "output_type": "stream",
          "name": "stderr",
          "text": [
            "\r32it [00:17,  1.86it/s]"
          ]
        },
        {
          "output_type": "stream",
          "name": "stdout",
          "text": [
            "./videos/train/rollup/video31_frame17.jpg\n",
            "./videos/train/criss_cross/video32_frame0.jpg\n",
            "./videos/train/criss_cross/video32_frame1.jpg\n",
            "./videos/train/criss_cross/video32_frame2.jpg\n",
            "./videos/train/criss_cross/video32_frame3.jpg\n",
            "./videos/train/criss_cross/video33_frame0.jpg\n"
          ]
        },
        {
          "output_type": "stream",
          "name": "stderr",
          "text": [
            "\r34it [00:17,  2.51it/s]"
          ]
        },
        {
          "output_type": "stream",
          "name": "stdout",
          "text": [
            "./videos/train/criss_cross/video33_frame1.jpg\n",
            "./videos/train/criss_cross/video33_frame2.jpg\n",
            "./videos/train/criss_cross/video34_frame0.jpg\n",
            "./videos/train/criss_cross/video35_frame0.jpg\n",
            "./videos/train/criss_cross/video35_frame1.jpg\n",
            "./videos/train/criss_cross/video35_frame2.jpg\n"
          ]
        },
        {
          "output_type": "stream",
          "name": "stderr",
          "text": [
            "\r36it [00:18,  3.31it/s]"
          ]
        },
        {
          "output_type": "stream",
          "name": "stdout",
          "text": [
            "./videos/train/double_leg/video36_frame0.jpg\n",
            "./videos/train/double_leg/video36_frame1.jpg\n",
            "./videos/train/double_leg/video36_frame2.jpg\n",
            "./videos/train/rollup/video37_frame0.jpg\n",
            "./videos/train/rollup/video37_frame1.jpg\n",
            "./videos/train/rollup/video37_frame2.jpg\n",
            "./videos/train/rollup/video37_frame3.jpg\n",
            "./videos/train/rollup/video37_frame4.jpg\n",
            "./videos/train/rollup/video37_frame5.jpg\n",
            "./videos/train/rollup/video37_frame6.jpg\n",
            "./videos/train/rollup/video37_frame7.jpg\n",
            "./videos/train/rollup/video37_frame8.jpg\n",
            "./videos/train/rollup/video37_frame9.jpg\n",
            "./videos/train/rollup/video37_frame10.jpg\n",
            "./videos/train/rollup/video37_frame11.jpg\n",
            "./videos/train/rollup/video37_frame12.jpg\n",
            "./videos/train/rollup/video37_frame13.jpg\n",
            "./videos/train/rollup/video37_frame14.jpg\n",
            "./videos/train/rollup/video37_frame15.jpg\n",
            "./videos/train/rollup/video37_frame16.jpg\n",
            "./videos/train/rollup/video37_frame17.jpg\n",
            "./videos/train/rollup/video37_frame18.jpg\n",
            "./videos/train/rollup/video37_frame19.jpg\n"
          ]
        },
        {
          "output_type": "stream",
          "name": "stderr",
          "text": [
            "\r38it [00:20,  1.89it/s]"
          ]
        },
        {
          "output_type": "stream",
          "name": "stdout",
          "text": [
            "./videos/train/rollup/video38_frame0.jpg\n",
            "./videos/train/rollup/video38_frame1.jpg\n",
            "./videos/train/rollup/video38_frame2.jpg\n",
            "./videos/train/rollup/video38_frame3.jpg\n",
            "./videos/train/rollup/video38_frame4.jpg\n",
            "./videos/train/rollup/video38_frame5.jpg\n",
            "./videos/train/rollup/video38_frame6.jpg\n",
            "./videos/train/rollup/video38_frame7.jpg\n",
            "./videos/train/rollup/video38_frame8.jpg\n"
          ]
        },
        {
          "output_type": "stream",
          "name": "stderr",
          "text": [
            "\r39it [00:20,  2.05it/s]"
          ]
        },
        {
          "output_type": "stream",
          "name": "stdout",
          "text": [
            "./videos/train/rollup/video38_frame9.jpg\n",
            "./videos/train/rollup/video38_frame10.jpg\n",
            "./videos/train/rollup/video38_frame11.jpg\n",
            "./videos/train/rollup/video38_frame12.jpg\n",
            "./videos/train/rollup/video39_frame0.jpg\n",
            "./videos/train/rollup/video39_frame1.jpg\n",
            "./videos/train/rollup/video39_frame2.jpg\n",
            "./videos/train/rollup/video39_frame3.jpg\n",
            "./videos/train/rollup/video39_frame4.jpg\n"
          ]
        },
        {
          "output_type": "stream",
          "name": "stderr",
          "text": [
            "\r40it [00:20,  2.21it/s]"
          ]
        },
        {
          "output_type": "stream",
          "name": "stdout",
          "text": [
            "./videos/train/rollup/video39_frame5.jpg\n",
            "./videos/train/rollup/video39_frame6.jpg\n",
            "./videos/train/rollup/video39_frame7.jpg\n",
            "./videos/train/rollup/video39_frame8.jpg\n",
            "./videos/train/rollup/video39_frame9.jpg\n",
            "./videos/train/rollup/video39_frame10.jpg\n",
            "./videos/train/rollup/video39_frame11.jpg\n",
            "./videos/train/rollup/video39_frame12.jpg\n",
            "./videos/train/rollup/video39_frame13.jpg\n",
            "./videos/train/rollup/video40_frame0.jpg\n",
            "./videos/train/rollup/video40_frame1.jpg\n",
            "./videos/train/rollup/video40_frame2.jpg\n",
            "./videos/train/rollup/video40_frame3.jpg\n",
            "./videos/train/rollup/video40_frame4.jpg\n",
            "./videos/train/rollup/video40_frame5.jpg\n",
            "./videos/train/rollup/video40_frame6.jpg\n",
            "./videos/train/rollup/video40_frame7.jpg\n",
            "./videos/train/rollup/video40_frame8.jpg\n",
            "./videos/train/rollup/video40_frame9.jpg\n",
            "./videos/train/rollup/video40_frame10.jpg\n",
            "./videos/train/rollup/video40_frame11.jpg\n",
            "./videos/train/rollup/video40_frame12.jpg\n",
            "./videos/train/rollup/video40_frame13.jpg\n",
            "./videos/train/rollup/video40_frame14.jpg\n",
            "./videos/train/rollup/video40_frame15.jpg\n",
            "./videos/train/rollup/video40_frame16.jpg\n",
            "./videos/train/rollup/video40_frame17.jpg\n"
          ]
        },
        {
          "output_type": "stream",
          "name": "stderr",
          "text": [
            "\r41it [00:23,  1.08it/s]"
          ]
        },
        {
          "output_type": "stream",
          "name": "stdout",
          "text": [
            "./videos/train/rollup/video40_frame18.jpg\n",
            "./videos/train/rollup/video40_frame19.jpg\n"
          ]
        },
        {
          "output_type": "stream",
          "name": "stderr",
          "text": [
            "\r43it [00:23,  1.68it/s]"
          ]
        },
        {
          "output_type": "stream",
          "name": "stdout",
          "text": [
            "./videos/train/criss_cross/video41_frame0.jpg\n",
            "./videos/train/criss_cross/video42_frame0.jpg\n",
            "./videos/train/criss_cross/video42_frame1.jpg\n",
            "./videos/train/criss_cross/video42_frame2.jpg\n",
            "./videos/train/criss_cross/video42_frame3.jpg\n",
            "./videos/train/criss_cross/video42_frame4.jpg\n",
            "./videos/train/criss_cross/video42_frame5.jpg\n"
          ]
        },
        {
          "output_type": "stream",
          "name": "stderr",
          "text": [
            "\r44it [00:23,  2.03it/s]"
          ]
        },
        {
          "output_type": "stream",
          "name": "stdout",
          "text": [
            "./videos/train/criss_cross/video43_frame0.jpg\n",
            "./videos/train/criss_cross/video43_frame1.jpg\n",
            "./videos/train/rollup/video44_frame0.jpg\n"
          ]
        },
        {
          "output_type": "stream",
          "name": "stderr",
          "text": [
            "\r45it [00:23,  2.35it/s]"
          ]
        },
        {
          "output_type": "stream",
          "name": "stdout",
          "text": [
            "./videos/train/rollup/video44_frame1.jpg\n",
            "./videos/train/rollup/video45_frame0.jpg\n",
            "./videos/train/rollup/video45_frame1.jpg\n",
            "./videos/train/rollup/video45_frame2.jpg\n",
            "./videos/train/rollup/video45_frame3.jpg\n",
            "./videos/train/rollup/video45_frame4.jpg\n",
            "./videos/train/rollup/video45_frame5.jpg\n",
            "./videos/train/rollup/video45_frame6.jpg\n",
            "./videos/train/rollup/video45_frame7.jpg\n",
            "./videos/train/rollup/video45_frame8.jpg\n",
            "./videos/train/rollup/video45_frame9.jpg\n",
            "./videos/train/rollup/video45_frame10.jpg\n",
            "./videos/train/rollup/video45_frame11.jpg\n",
            "./videos/train/rollup/video45_frame12.jpg\n",
            "./videos/train/rollup/video45_frame13.jpg\n",
            "./videos/train/rollup/video45_frame14.jpg\n",
            "./videos/train/rollup/video45_frame15.jpg\n",
            "./videos/train/rollup/video45_frame16.jpg\n",
            "./videos/train/rollup/video45_frame17.jpg\n"
          ]
        },
        {
          "output_type": "stream",
          "name": "stderr",
          "text": [
            "\r46it [00:25,  1.34it/s]"
          ]
        },
        {
          "output_type": "stream",
          "name": "stdout",
          "text": [
            "./videos/train/rollup/video45_frame18.jpg\n",
            "./videos/train/rollup/video46_frame0.jpg\n",
            "./videos/train/rollup/video46_frame1.jpg\n",
            "./videos/train/rollup/video46_frame2.jpg\n",
            "./videos/train/rollup/video46_frame3.jpg\n",
            "./videos/train/rollup/video46_frame4.jpg\n",
            "./videos/train/rollup/video46_frame5.jpg\n",
            "./videos/train/rollup/video46_frame6.jpg\n",
            "./videos/train/rollup/video46_frame7.jpg\n",
            "./videos/train/rollup/video46_frame8.jpg\n",
            "./videos/train/rollup/video46_frame9.jpg\n",
            "./videos/train/rollup/video46_frame10.jpg\n"
          ]
        },
        {
          "output_type": "stream",
          "name": "stderr",
          "text": [
            "\r47it [00:26,  1.07it/s]"
          ]
        },
        {
          "output_type": "stream",
          "name": "stdout",
          "text": [
            "./videos/train/rollup/video47_frame0.jpg\n",
            "./videos/train/rollup/video47_frame1.jpg\n",
            "./videos/train/rollup/video47_frame2.jpg\n",
            "./videos/train/rollup/video47_frame3.jpg\n",
            "./videos/train/rollup/video47_frame4.jpg\n",
            "./videos/train/rollup/video47_frame5.jpg\n",
            "./videos/train/rollup/video47_frame6.jpg\n",
            "./videos/train/rollup/video47_frame7.jpg\n",
            "./videos/train/rollup/video47_frame8.jpg\n"
          ]
        },
        {
          "output_type": "stream",
          "name": "stderr",
          "text": [
            "\r48it [00:27,  1.09it/s]"
          ]
        },
        {
          "output_type": "stream",
          "name": "stdout",
          "text": [
            "./videos/train/rollup/video47_frame9.jpg\n",
            "./videos/train/criss_cross/video48_frame0.jpg\n"
          ]
        },
        {
          "output_type": "stream",
          "name": "stderr",
          "text": [
            "\r49it [00:28,  1.34it/s]"
          ]
        },
        {
          "output_type": "stream",
          "name": "stdout",
          "text": [
            "./videos/train/criss_cross/video48_frame1.jpg\n",
            "./videos/train/criss_cross/video48_frame2.jpg\n",
            "./videos/train/rollup/video49_frame0.jpg\n",
            "./videos/train/rollup/video49_frame1.jpg\n",
            "./videos/train/rollup/video49_frame2.jpg\n",
            "./videos/train/rollup/video49_frame3.jpg\n",
            "./videos/train/rollup/video49_frame4.jpg\n",
            "./videos/train/rollup/video49_frame5.jpg\n",
            "./videos/train/rollup/video49_frame6.jpg\n",
            "./videos/train/rollup/video49_frame7.jpg\n",
            "./videos/train/rollup/video49_frame8.jpg\n",
            "./videos/train/rollup/video49_frame9.jpg\n",
            "./videos/train/rollup/video49_frame10.jpg\n",
            "./videos/train/rollup/video49_frame11.jpg\n",
            "./videos/train/rollup/video49_frame12.jpg\n",
            "./videos/train/rollup/video49_frame13.jpg\n",
            "./videos/train/rollup/video49_frame14.jpg\n",
            "./videos/train/rollup/video49_frame15.jpg\n",
            "./videos/train/rollup/video49_frame16.jpg\n"
          ]
        },
        {
          "output_type": "stream",
          "name": "stderr",
          "text": [
            "\r50it [00:29,  1.10s/it]"
          ]
        },
        {
          "output_type": "stream",
          "name": "stdout",
          "text": [
            "./videos/train/rollup/video49_frame17.jpg\n",
            "./videos/train/rollup/video50_frame0.jpg\n",
            "./videos/train/rollup/video50_frame1.jpg\n",
            "./videos/train/rollup/video50_frame2.jpg\n",
            "./videos/train/rollup/video50_frame3.jpg\n",
            "./videos/train/rollup/video50_frame4.jpg\n",
            "./videos/train/rollup/video50_frame5.jpg\n",
            "./videos/train/rollup/video50_frame6.jpg\n",
            "./videos/train/rollup/video50_frame7.jpg\n",
            "./videos/train/rollup/video50_frame8.jpg\n",
            "./videos/train/rollup/video50_frame9.jpg\n",
            "./videos/train/rollup/video50_frame10.jpg\n",
            "./videos/train/rollup/video50_frame11.jpg\n",
            "./videos/train/rollup/video50_frame12.jpg\n",
            "./videos/train/rollup/video50_frame13.jpg\n",
            "./videos/train/rollup/video50_frame14.jpg\n",
            "./videos/train/rollup/video50_frame15.jpg\n",
            "./videos/train/rollup/video50_frame16.jpg\n",
            "./videos/train/rollup/video50_frame17.jpg\n"
          ]
        },
        {
          "output_type": "stream",
          "name": "stderr",
          "text": [
            "\r51it [00:31,  1.36s/it]"
          ]
        },
        {
          "output_type": "stream",
          "name": "stdout",
          "text": [
            "./videos/train/rollup/video50_frame18.jpg\n",
            "./videos/train/rollup/video50_frame19.jpg\n",
            "./videos/train/rollup/video51_frame0.jpg\n",
            "./videos/train/rollup/video51_frame1.jpg\n",
            "./videos/train/rollup/video51_frame2.jpg\n",
            "./videos/train/rollup/video51_frame3.jpg\n",
            "./videos/train/rollup/video51_frame4.jpg\n",
            "./videos/train/rollup/video51_frame5.jpg\n",
            "./videos/train/rollup/video51_frame6.jpg\n"
          ]
        },
        {
          "output_type": "stream",
          "name": "stderr",
          "text": [
            "\r52it [00:32,  1.22s/it]"
          ]
        },
        {
          "output_type": "stream",
          "name": "stdout",
          "text": [
            "./videos/train/rollup/video51_frame7.jpg\n",
            "./videos/train/rollup/video51_frame8.jpg\n",
            "./videos/train/rollup/video52_frame0.jpg\n",
            "./videos/train/rollup/video52_frame1.jpg\n",
            "./videos/train/rollup/video52_frame2.jpg\n",
            "./videos/train/rollup/video52_frame3.jpg\n",
            "./videos/train/rollup/video52_frame4.jpg\n",
            "./videos/train/rollup/video52_frame5.jpg\n",
            "./videos/train/rollup/video52_frame6.jpg\n",
            "./videos/train/rollup/video52_frame7.jpg\n",
            "./videos/train/rollup/video52_frame8.jpg\n",
            "./videos/train/rollup/video52_frame9.jpg\n",
            "./videos/train/rollup/video52_frame10.jpg\n"
          ]
        },
        {
          "output_type": "stream",
          "name": "stderr",
          "text": [
            "55it [00:33,  1.82it/s]"
          ]
        },
        {
          "output_type": "stream",
          "name": "stdout",
          "text": [
            "./videos/train/criss_cross/video53_frame0.jpg\n",
            "./videos/train/criss_cross/video53_frame1.jpg\n",
            "./videos/train/double_leg/video54_frame0.jpg\n",
            "./videos/train/double_leg/video54_frame1.jpg\n",
            "./videos/train/rollup/video55_frame0.jpg\n",
            "./videos/train/rollup/video55_frame1.jpg\n",
            "./videos/train/rollup/video55_frame2.jpg\n",
            "./videos/train/rollup/video55_frame3.jpg\n",
            "./videos/train/rollup/video55_frame4.jpg\n",
            "./videos/train/rollup/video55_frame5.jpg\n",
            "./videos/train/rollup/video55_frame6.jpg\n",
            "./videos/train/rollup/video55_frame7.jpg\n"
          ]
        },
        {
          "output_type": "stream",
          "name": "stderr",
          "text": [
            "\r56it [00:34,  1.54it/s]"
          ]
        },
        {
          "output_type": "stream",
          "name": "stdout",
          "text": [
            "./videos/train/rollup/video55_frame8.jpg\n",
            "./videos/train/double_leg/video56_frame0.jpg\n",
            "./videos/train/double_leg/video56_frame1.jpg\n",
            "./videos/train/double_leg/video57_frame0.jpg\n",
            "./videos/train/double_leg/video57_frame1.jpg\n",
            "./videos/train/double_leg/video57_frame2.jpg\n",
            "./videos/train/double_leg/video57_frame3.jpg\n",
            "./videos/train/double_leg/video57_frame4.jpg\n"
          ]
        },
        {
          "output_type": "stream",
          "name": "stderr",
          "text": [
            "\r58it [00:34,  1.90it/s]"
          ]
        },
        {
          "output_type": "stream",
          "name": "stdout",
          "text": [
            "./videos/train/double_leg/video58_frame0.jpg\n",
            "./videos/train/double_leg/video58_frame1.jpg\n",
            "./videos/train/double_leg/video58_frame2.jpg\n",
            "./videos/train/rollup/video59_frame0.jpg\n",
            "./videos/train/rollup/video59_frame1.jpg\n",
            "./videos/train/rollup/video59_frame2.jpg\n",
            "./videos/train/rollup/video59_frame3.jpg\n",
            "./videos/train/rollup/video59_frame4.jpg\n",
            "./videos/train/rollup/video59_frame5.jpg\n",
            "./videos/train/rollup/video59_frame6.jpg\n",
            "./videos/train/rollup/video59_frame7.jpg\n",
            "./videos/train/rollup/video59_frame8.jpg\n",
            "./videos/train/rollup/video59_frame9.jpg\n",
            "./videos/train/rollup/video59_frame10.jpg\n"
          ]
        },
        {
          "output_type": "stream",
          "name": "stderr",
          "text": [
            "\r60it [00:36,  1.86it/s]"
          ]
        },
        {
          "output_type": "stream",
          "name": "stdout",
          "text": [
            "./videos/train/rollup/video59_frame11.jpg\n",
            "./videos/train/rollup/video59_frame12.jpg\n",
            "./videos/train/double_leg/video60_frame0.jpg\n",
            "./videos/train/double_leg/video60_frame1.jpg\n",
            "./videos/train/double_leg/video60_frame2.jpg\n",
            "./videos/train/double_leg/video60_frame3.jpg\n"
          ]
        },
        {
          "output_type": "stream",
          "name": "stderr",
          "text": [
            "62it [00:36,  2.38it/s]"
          ]
        },
        {
          "output_type": "stream",
          "name": "stdout",
          "text": [
            "./videos/train/criss_cross/video61_frame0.jpg\n",
            "./videos/train/criss_cross/video61_frame1.jpg\n",
            "./videos/train/rollup/video62_frame0.jpg\n",
            "./videos/train/rollup/video62_frame1.jpg\n",
            "./videos/train/rollup/video62_frame2.jpg\n",
            "./videos/train/rollup/video62_frame3.jpg\n",
            "./videos/train/rollup/video62_frame4.jpg\n",
            "./videos/train/rollup/video62_frame5.jpg\n",
            "./videos/train/rollup/video62_frame6.jpg\n",
            "./videos/train/rollup/video62_frame7.jpg\n",
            "./videos/train/rollup/video62_frame8.jpg\n",
            "./videos/train/rollup/video62_frame9.jpg\n",
            "./videos/train/rollup/video62_frame10.jpg\n",
            "./videos/train/rollup/video62_frame11.jpg\n",
            "./videos/train/rollup/video62_frame12.jpg\n",
            "./videos/train/rollup/video62_frame13.jpg\n",
            "./videos/train/rollup/video62_frame14.jpg\n"
          ]
        },
        {
          "output_type": "stream",
          "name": "stderr",
          "text": [
            "\r63it [00:38,  1.35it/s]"
          ]
        },
        {
          "output_type": "stream",
          "name": "stdout",
          "text": [
            "./videos/train/rollup/video62_frame15.jpg\n",
            "./videos/train/rollup/video62_frame16.jpg\n",
            "./videos/train/criss_cross/video63_frame0.jpg\n",
            "./videos/train/criss_cross/video63_frame1.jpg\n",
            "./videos/train/rollup/video64_frame0.jpg\n",
            "./videos/train/rollup/video64_frame1.jpg\n",
            "./videos/train/rollup/video64_frame2.jpg\n",
            "./videos/train/rollup/video64_frame3.jpg\n",
            "./videos/train/rollup/video64_frame4.jpg\n",
            "./videos/train/rollup/video64_frame5.jpg\n",
            "./videos/train/rollup/video64_frame6.jpg\n",
            "./videos/train/rollup/video64_frame7.jpg\n",
            "./videos/train/rollup/video64_frame8.jpg\n",
            "./videos/train/rollup/video64_frame9.jpg\n",
            "./videos/train/rollup/video64_frame10.jpg\n",
            "./videos/train/rollup/video64_frame11.jpg\n",
            "./videos/train/rollup/video64_frame12.jpg\n",
            "./videos/train/rollup/video64_frame13.jpg\n",
            "./videos/train/rollup/video64_frame14.jpg\n"
          ]
        },
        {
          "output_type": "stream",
          "name": "stderr",
          "text": [
            "\r65it [00:39,  1.36it/s]"
          ]
        },
        {
          "output_type": "stream",
          "name": "stdout",
          "text": [
            "./videos/train/rollup/video64_frame15.jpg\n",
            "./videos/train/rollup/video64_frame16.jpg\n",
            "./videos/train/double_leg/video65_frame0.jpg\n",
            "./videos/train/double_leg/video65_frame1.jpg\n",
            "./videos/train/double_leg/video65_frame2.jpg\n",
            "./videos/train/double_leg/video65_frame3.jpg\n"
          ]
        },
        {
          "output_type": "stream",
          "name": "stderr",
          "text": [
            "\r66it [00:40,  1.53it/s]"
          ]
        },
        {
          "output_type": "stream",
          "name": "stdout",
          "text": [
            "./videos/train/criss_cross/video66_frame0.jpg\n",
            "./videos/train/criss_cross/video66_frame1.jpg\n"
          ]
        },
        {
          "output_type": "stream",
          "name": "stderr",
          "text": [
            "\r67it [00:40,  1.66it/s]"
          ]
        },
        {
          "output_type": "stream",
          "name": "stdout",
          "text": [
            "./videos/train/criss_cross/video66_frame2.jpg\n",
            "./videos/train/criss_cross/video66_frame3.jpg\n",
            "./videos/train/double_leg/video67_frame0.jpg\n"
          ]
        },
        {
          "output_type": "stream",
          "name": "stderr",
          "text": [
            "\r68it [00:40,  1.92it/s]"
          ]
        },
        {
          "output_type": "stream",
          "name": "stdout",
          "text": [
            "./videos/train/double_leg/video67_frame1.jpg\n",
            "./videos/train/double_leg/video67_frame2.jpg\n",
            "./videos/train/double_leg/video68_frame0.jpg\n",
            "./videos/train/double_leg/video68_frame1.jpg\n",
            "./videos/train/double_leg/video68_frame2.jpg\n",
            "./videos/train/double_leg/video68_frame3.jpg\n",
            "./videos/train/rollup/video69_frame0.jpg\n",
            "./videos/train/rollup/video69_frame1.jpg\n",
            "./videos/train/rollup/video69_frame2.jpg\n",
            "./videos/train/rollup/video69_frame3.jpg\n",
            "./videos/train/rollup/video69_frame4.jpg\n",
            "./videos/train/rollup/video69_frame5.jpg\n",
            "./videos/train/rollup/video69_frame6.jpg\n",
            "./videos/train/rollup/video69_frame7.jpg\n",
            "./videos/train/rollup/video69_frame8.jpg\n",
            "./videos/train/rollup/video69_frame9.jpg\n",
            "./videos/train/rollup/video69_frame10.jpg\n",
            "./videos/train/rollup/video69_frame11.jpg\n",
            "./videos/train/rollup/video69_frame12.jpg\n",
            "./videos/train/rollup/video69_frame13.jpg\n",
            "./videos/train/rollup/video69_frame14.jpg\n",
            "./videos/train/rollup/video69_frame15.jpg\n"
          ]
        },
        {
          "output_type": "stream",
          "name": "stderr",
          "text": [
            "\r70it [00:41,  2.35it/s]"
          ]
        },
        {
          "output_type": "stream",
          "name": "stdout",
          "text": [
            "./videos/train/rollup/video69_frame16.jpg\n",
            "./videos/train/rollup/video69_frame17.jpg\n",
            "./videos/train/rollup/video69_frame18.jpg\n",
            "./videos/train/rollup/video69_frame19.jpg\n",
            "./videos/train/criss_cross/video70_frame0.jpg\n"
          ]
        },
        {
          "output_type": "stream",
          "name": "stderr",
          "text": [
            "\r71it [00:41,  2.79it/s]"
          ]
        },
        {
          "output_type": "stream",
          "name": "stdout",
          "text": [
            "./videos/train/rollup/video71_frame0.jpg\n",
            "./videos/train/rollup/video71_frame1.jpg\n",
            "./videos/train/rollup/video71_frame2.jpg\n",
            "./videos/train/rollup/video71_frame3.jpg\n",
            "./videos/train/rollup/video71_frame4.jpg\n",
            "./videos/train/rollup/video71_frame5.jpg\n",
            "./videos/train/rollup/video71_frame6.jpg\n",
            "./videos/train/rollup/video71_frame7.jpg\n",
            "./videos/train/rollup/video71_frame8.jpg\n"
          ]
        },
        {
          "output_type": "stream",
          "name": "stderr",
          "text": [
            "\r72it [00:42,  1.78it/s]"
          ]
        },
        {
          "output_type": "stream",
          "name": "stdout",
          "text": [
            "./videos/train/rollup/video71_frame9.jpg\n",
            "./videos/train/rollup/video71_frame10.jpg\n",
            "./videos/train/double_leg/video72_frame0.jpg\n",
            "./videos/train/double_leg/video72_frame1.jpg\n",
            "./videos/train/double_leg/video72_frame2.jpg\n"
          ]
        },
        {
          "output_type": "stream",
          "name": "stderr",
          "text": [
            "\r74it [00:42,  2.79it/s]"
          ]
        },
        {
          "output_type": "stream",
          "name": "stdout",
          "text": [
            "./videos/train/double_leg/video73_frame0.jpg\n",
            "./videos/train/double_leg/video74_frame0.jpg\n",
            "./videos/train/double_leg/video74_frame1.jpg\n"
          ]
        },
        {
          "output_type": "stream",
          "name": "stderr",
          "text": [
            "\r75it [00:43,  3.17it/s]"
          ]
        },
        {
          "output_type": "stream",
          "name": "stdout",
          "text": [
            "./videos/train/criss_cross/video75_frame0.jpg\n",
            "./videos/train/criss_cross/video75_frame1.jpg\n",
            "./videos/train/criss_cross/video75_frame2.jpg\n",
            "./videos/train/criss_cross/video75_frame3.jpg\n"
          ]
        },
        {
          "output_type": "stream",
          "name": "stderr",
          "text": [
            "\r76it [00:43,  2.59it/s]"
          ]
        },
        {
          "output_type": "stream",
          "name": "stdout",
          "text": [
            "./videos/train/criss_cross/video75_frame4.jpg\n",
            "./videos/train/double_leg/video76_frame0.jpg\n"
          ]
        },
        {
          "output_type": "stream",
          "name": "stderr",
          "text": [
            "\r77it [00:43,  2.86it/s]"
          ]
        },
        {
          "output_type": "stream",
          "name": "stdout",
          "text": [
            "./videos/train/double_leg/video76_frame1.jpg\n",
            "./videos/train/double_leg/video76_frame2.jpg\n",
            "./videos/train/criss_cross/video77_frame0.jpg\n",
            "./videos/train/criss_cross/video77_frame1.jpg\n",
            "./videos/train/criss_cross/video77_frame2.jpg\n",
            "./videos/train/criss_cross/video77_frame3.jpg\n",
            "./videos/train/criss_cross/video78_frame0.jpg\n",
            "./videos/train/criss_cross/video78_frame1.jpg\n",
            "./videos/train/criss_cross/video78_frame2.jpg\n",
            "./videos/train/criss_cross/video78_frame3.jpg\n"
          ]
        },
        {
          "output_type": "stream",
          "name": "stderr",
          "text": [
            "\r79it [00:44,  3.07it/s]"
          ]
        },
        {
          "output_type": "stream",
          "name": "stdout",
          "text": [
            "./videos/train/criss_cross/video79_frame0.jpg\n",
            "./videos/train/criss_cross/video79_frame1.jpg\n"
          ]
        },
        {
          "output_type": "stream",
          "name": "stderr",
          "text": [
            "\r80it [00:44,  3.26it/s]"
          ]
        },
        {
          "output_type": "stream",
          "name": "stdout",
          "text": [
            "./videos/train/criss_cross/video79_frame2.jpg\n",
            "./videos/train/rollup/video80_frame0.jpg\n",
            "./videos/train/rollup/video80_frame1.jpg\n",
            "./videos/train/rollup/video80_frame2.jpg\n",
            "./videos/train/rollup/video80_frame3.jpg\n",
            "./videos/train/rollup/video80_frame4.jpg\n",
            "./videos/train/rollup/video80_frame5.jpg\n",
            "./videos/train/rollup/video80_frame6.jpg\n",
            "./videos/train/rollup/video80_frame7.jpg\n",
            "./videos/train/rollup/video80_frame8.jpg\n",
            "./videos/train/rollup/video80_frame9.jpg\n",
            "./videos/train/rollup/video80_frame10.jpg\n",
            "./videos/train/rollup/video80_frame11.jpg\n",
            "./videos/train/rollup/video80_frame12.jpg\n",
            "./videos/train/rollup/video80_frame13.jpg\n",
            "./videos/train/rollup/video80_frame14.jpg\n",
            "./videos/train/rollup/video80_frame15.jpg\n",
            "./videos/train/rollup/video80_frame16.jpg\n",
            "./videos/train/rollup/video80_frame17.jpg\n",
            "./videos/train/rollup/video80_frame18.jpg\n",
            "./videos/train/rollup/video80_frame19.jpg\n",
            "./videos/train/rollup/video80_frame20.jpg\n",
            "./videos/train/rollup/video80_frame21.jpg\n",
            "./videos/train/rollup/video80_frame22.jpg\n"
          ]
        },
        {
          "output_type": "stream",
          "name": "stderr",
          "text": [
            "\r81it [00:45,  2.40it/s]"
          ]
        },
        {
          "output_type": "stream",
          "name": "stdout",
          "text": [
            "./videos/train/rollup/video80_frame23.jpg\n",
            "./videos/train/rollup/video80_frame24.jpg\n",
            "./videos/train/rollup/video80_frame25.jpg\n",
            "./videos/train/rollup/video80_frame26.jpg\n",
            "./videos/train/rollup/video80_frame27.jpg\n",
            "./videos/train/double_leg/video81_frame0.jpg\n"
          ]
        },
        {
          "output_type": "stream",
          "name": "stderr",
          "text": [
            "\r82it [00:45,  2.72it/s]"
          ]
        },
        {
          "output_type": "stream",
          "name": "stdout",
          "text": [
            "./videos/train/double_leg/video81_frame1.jpg\n",
            "./videos/train/criss_cross/video82_frame0.jpg\n",
            "./videos/train/criss_cross/video82_frame1.jpg\n",
            "./videos/train/criss_cross/video82_frame2.jpg\n",
            "./videos/train/criss_cross/video82_frame3.jpg\n"
          ]
        },
        {
          "output_type": "stream",
          "name": "stderr",
          "text": [
            "84it [00:46,  3.39it/s]"
          ]
        },
        {
          "output_type": "stream",
          "name": "stdout",
          "text": [
            "./videos/train/double_leg/video83_frame0.jpg\n",
            "./videos/train/double_leg/video83_frame1.jpg\n",
            "./videos/train/double_leg/video83_frame2.jpg\n",
            "./videos/train/double_leg/video83_frame3.jpg\n",
            "./videos/train/double_leg/video84_frame0.jpg\n"
          ]
        },
        {
          "output_type": "stream",
          "name": "stderr",
          "text": [
            "\r85it [00:46,  3.37it/s]"
          ]
        },
        {
          "output_type": "stream",
          "name": "stdout",
          "text": [
            "./videos/train/double_leg/video84_frame1.jpg\n",
            "./videos/train/double_leg/video84_frame2.jpg\n",
            "./videos/train/double_leg/video84_frame3.jpg\n"
          ]
        },
        {
          "output_type": "stream",
          "name": "stderr",
          "text": [
            "\r86it [00:46,  3.85it/s]"
          ]
        },
        {
          "output_type": "stream",
          "name": "stdout",
          "text": [
            "./videos/train/criss_cross/video85_frame0.jpg\n",
            "./videos/train/criss_cross/video85_frame1.jpg\n",
            "./videos/train/rollup/video86_frame0.jpg\n",
            "./videos/train/rollup/video86_frame1.jpg\n",
            "./videos/train/rollup/video86_frame2.jpg\n",
            "./videos/train/rollup/video86_frame3.jpg\n",
            "./videos/train/rollup/video86_frame4.jpg\n",
            "./videos/train/rollup/video86_frame5.jpg\n",
            "./videos/train/rollup/video86_frame6.jpg\n",
            "./videos/train/rollup/video86_frame7.jpg\n",
            "./videos/train/rollup/video86_frame8.jpg\n",
            "./videos/train/rollup/video86_frame9.jpg\n",
            "./videos/train/rollup/video86_frame10.jpg\n",
            "./videos/train/rollup/video86_frame11.jpg\n"
          ]
        },
        {
          "output_type": "stream",
          "name": "stderr",
          "text": [
            "\r87it [00:47,  3.04it/s]"
          ]
        },
        {
          "output_type": "stream",
          "name": "stdout",
          "text": [
            "./videos/train/rollup/video86_frame12.jpg\n",
            "./videos/train/rollup/video86_frame13.jpg\n",
            "./videos/train/rollup/video86_frame14.jpg\n",
            "./videos/train/rollup/video86_frame15.jpg\n",
            "./videos/train/rollup/video86_frame16.jpg\n",
            "./videos/train/rollup/video86_frame17.jpg\n",
            "./videos/train/rollup/video86_frame18.jpg\n",
            "./videos/train/double_leg/video87_frame0.jpg\n",
            "./videos/train/double_leg/video87_frame1.jpg\n",
            "./videos/train/double_leg/video87_frame2.jpg\n",
            "./videos/train/double_leg/video87_frame3.jpg\n",
            "./videos/train/double_leg/video87_frame4.jpg\n",
            "./videos/train/double_leg/video87_frame5.jpg\n"
          ]
        },
        {
          "output_type": "stream",
          "name": "stderr",
          "text": [
            "\r88it [00:47,  2.10it/s]"
          ]
        },
        {
          "output_type": "stream",
          "name": "stdout",
          "text": [
            "./videos/train/double_leg/video87_frame6.jpg\n",
            "./videos/train/rollup/video88_frame0.jpg\n",
            "./videos/train/rollup/video88_frame1.jpg\n",
            "./videos/train/rollup/video88_frame2.jpg\n",
            "./videos/train/rollup/video88_frame3.jpg\n",
            "./videos/train/rollup/video88_frame4.jpg\n",
            "./videos/train/rollup/video88_frame5.jpg\n",
            "./videos/train/rollup/video88_frame6.jpg\n",
            "./videos/train/rollup/video88_frame7.jpg\n",
            "./videos/train/rollup/video88_frame8.jpg\n",
            "./videos/train/rollup/video88_frame9.jpg\n",
            "./videos/train/rollup/video88_frame10.jpg\n",
            "./videos/train/rollup/video88_frame11.jpg\n",
            "./videos/train/rollup/video88_frame12.jpg\n",
            "./videos/train/rollup/video88_frame13.jpg\n"
          ]
        },
        {
          "output_type": "stream",
          "name": "stderr",
          "text": [
            "\r89it [00:49,  1.33it/s]"
          ]
        },
        {
          "output_type": "stream",
          "name": "stdout",
          "text": [
            "./videos/train/rollup/video88_frame14.jpg\n",
            "./videos/train/rollup/video89_frame0.jpg\n",
            "./videos/train/rollup/video89_frame1.jpg\n",
            "./videos/train/rollup/video89_frame2.jpg\n",
            "./videos/train/rollup/video89_frame3.jpg\n",
            "./videos/train/rollup/video89_frame4.jpg\n",
            "./videos/train/rollup/video89_frame5.jpg\n"
          ]
        },
        {
          "output_type": "stream",
          "name": "stderr",
          "text": [
            "\r90it [00:50,  1.31it/s]"
          ]
        },
        {
          "output_type": "stream",
          "name": "stdout",
          "text": [
            "./videos/train/rollup/video89_frame6.jpg\n",
            "./videos/train/rollup/video90_frame0.jpg\n",
            "./videos/train/rollup/video90_frame1.jpg\n",
            "./videos/train/rollup/video90_frame2.jpg\n",
            "./videos/train/rollup/video90_frame3.jpg\n",
            "./videos/train/rollup/video90_frame4.jpg\n",
            "./videos/train/rollup/video90_frame5.jpg\n",
            "./videos/train/rollup/video90_frame6.jpg\n",
            "./videos/train/rollup/video90_frame7.jpg\n",
            "./videos/train/rollup/video90_frame8.jpg\n",
            "./videos/train/rollup/video90_frame9.jpg\n",
            "./videos/train/rollup/video90_frame10.jpg\n",
            "./videos/train/rollup/video90_frame11.jpg\n",
            "./videos/train/rollup/video90_frame12.jpg\n",
            "./videos/train/rollup/video90_frame13.jpg\n",
            "./videos/train/rollup/video90_frame14.jpg\n",
            "./videos/train/rollup/video90_frame15.jpg\n",
            "./videos/train/rollup/video90_frame16.jpg\n",
            "./videos/train/rollup/video90_frame17.jpg\n",
            "./videos/train/rollup/video90_frame18.jpg\n",
            "./videos/train/rollup/video90_frame19.jpg\n",
            "./videos/train/rollup/video90_frame20.jpg\n",
            "./videos/train/rollup/video90_frame21.jpg\n",
            "./videos/train/rollup/video90_frame22.jpg\n",
            "./videos/train/rollup/video90_frame23.jpg\n",
            "./videos/train/rollup/video90_frame24.jpg\n"
          ]
        },
        {
          "output_type": "stream",
          "name": "stderr",
          "text": [
            "\r91it [00:53,  1.51s/it]"
          ]
        },
        {
          "output_type": "stream",
          "name": "stdout",
          "text": [
            "./videos/train/rollup/video90_frame25.jpg\n",
            "./videos/train/rollup/video91_frame0.jpg\n",
            "./videos/train/rollup/video91_frame1.jpg\n",
            "./videos/train/rollup/video91_frame2.jpg\n",
            "./videos/train/rollup/video91_frame3.jpg\n",
            "./videos/train/rollup/video91_frame4.jpg\n",
            "./videos/train/rollup/video91_frame5.jpg\n",
            "./videos/train/rollup/video91_frame6.jpg\n",
            "./videos/train/rollup/video91_frame7.jpg\n",
            "./videos/train/rollup/video91_frame8.jpg\n",
            "./videos/train/rollup/video91_frame9.jpg\n",
            "./videos/train/rollup/video91_frame10.jpg\n",
            "./videos/train/rollup/video91_frame11.jpg\n",
            "./videos/train/rollup/video91_frame12.jpg\n",
            "./videos/train/rollup/video91_frame13.jpg\n"
          ]
        },
        {
          "output_type": "stream",
          "name": "stderr",
          "text": [
            "\r92it [00:54,  1.40s/it]"
          ]
        },
        {
          "output_type": "stream",
          "name": "stdout",
          "text": [
            "./videos/train/rollup/video92_frame0.jpg\n",
            "./videos/train/rollup/video92_frame1.jpg\n",
            "./videos/train/rollup/video92_frame2.jpg\n",
            "./videos/train/rollup/video92_frame3.jpg\n",
            "./videos/train/rollup/video92_frame4.jpg\n",
            "./videos/train/rollup/video92_frame5.jpg\n",
            "./videos/train/rollup/video92_frame6.jpg\n",
            "./videos/train/rollup/video92_frame7.jpg\n",
            "./videos/train/rollup/video92_frame8.jpg\n",
            "./videos/train/rollup/video92_frame9.jpg\n",
            "./videos/train/rollup/video92_frame10.jpg\n",
            "./videos/train/rollup/video92_frame11.jpg\n",
            "./videos/train/rollup/video92_frame12.jpg\n",
            "./videos/train/rollup/video92_frame13.jpg\n",
            "./videos/train/rollup/video92_frame14.jpg\n",
            "./videos/train/rollup/video92_frame15.jpg\n",
            "./videos/train/rollup/video92_frame16.jpg\n",
            "./videos/train/rollup/video92_frame17.jpg\n",
            "./videos/train/rollup/video92_frame18.jpg\n",
            "./videos/train/rollup/video92_frame19.jpg\n",
            "./videos/train/rollup/video92_frame20.jpg\n"
          ]
        },
        {
          "output_type": "stream",
          "name": "stderr",
          "text": [
            "95it [00:56,  1.17it/s]"
          ]
        },
        {
          "output_type": "stream",
          "name": "stdout",
          "text": [
            "./videos/train/rollup/video92_frame21.jpg\n",
            "./videos/train/criss_cross/video93_frame0.jpg\n",
            "./videos/train/criss_cross/video94_frame0.jpg\n",
            "./videos/train/criss_cross/video95_frame0.jpg\n",
            "./videos/train/rollup/video96_frame0.jpg\n",
            "./videos/train/rollup/video96_frame1.jpg\n",
            "./videos/train/rollup/video96_frame2.jpg\n",
            "./videos/train/rollup/video96_frame3.jpg\n",
            "./videos/train/rollup/video96_frame4.jpg\n",
            "./videos/train/rollup/video96_frame5.jpg\n",
            "./videos/train/rollup/video96_frame6.jpg\n",
            "./videos/train/rollup/video96_frame7.jpg\n",
            "./videos/train/rollup/video96_frame8.jpg\n",
            "./videos/train/rollup/video96_frame9.jpg\n",
            "./videos/train/rollup/video96_frame10.jpg\n",
            "./videos/train/rollup/video96_frame11.jpg\n"
          ]
        },
        {
          "output_type": "stream",
          "name": "stderr",
          "text": [
            "\r97it [00:57,  1.30it/s]"
          ]
        },
        {
          "output_type": "stream",
          "name": "stdout",
          "text": [
            "./videos/train/rollup/video96_frame12.jpg\n",
            "./videos/train/rollup/video96_frame13.jpg\n",
            "./videos/train/rollup/video96_frame14.jpg\n",
            "./videos/train/rollup/video97_frame0.jpg\n",
            "./videos/train/rollup/video97_frame1.jpg\n",
            "./videos/train/rollup/video97_frame2.jpg\n",
            "./videos/train/rollup/video97_frame3.jpg\n",
            "./videos/train/rollup/video97_frame4.jpg\n",
            "./videos/train/rollup/video97_frame5.jpg\n",
            "./videos/train/rollup/video97_frame6.jpg\n",
            "./videos/train/rollup/video97_frame7.jpg\n",
            "./videos/train/rollup/video97_frame8.jpg\n",
            "./videos/train/rollup/video97_frame9.jpg\n",
            "./videos/train/rollup/video97_frame10.jpg\n",
            "./videos/train/rollup/video97_frame11.jpg\n",
            "./videos/train/rollup/video97_frame12.jpg\n",
            "./videos/train/rollup/video97_frame13.jpg\n",
            "./videos/train/rollup/video97_frame14.jpg\n",
            "./videos/train/rollup/video97_frame15.jpg\n",
            "./videos/train/rollup/video97_frame16.jpg\n",
            "./videos/train/rollup/video97_frame17.jpg\n",
            "./videos/train/rollup/video97_frame18.jpg\n",
            "./videos/train/rollup/video97_frame19.jpg\n",
            "./videos/train/rollup/video97_frame20.jpg\n",
            "./videos/train/rollup/video97_frame21.jpg\n"
          ]
        },
        {
          "output_type": "stream",
          "name": "stderr",
          "text": [
            "\r98it [01:00,  1.26s/it]"
          ]
        },
        {
          "output_type": "stream",
          "name": "stdout",
          "text": [
            "./videos/train/rollup/video97_frame22.jpg\n",
            "./videos/train/rollup/video97_frame23.jpg\n",
            "./videos/train/double_leg/video98_frame0.jpg\n",
            "./videos/train/double_leg/video98_frame1.jpg\n",
            "./videos/train/double_leg/video98_frame2.jpg\n"
          ]
        },
        {
          "output_type": "stream",
          "name": "stderr",
          "text": [
            "\r99it [01:01,  1.04s/it]"
          ]
        },
        {
          "output_type": "stream",
          "name": "stdout",
          "text": [
            "./videos/train/double_leg/video98_frame3.jpg\n",
            "./videos/train/rollup/video99_frame0.jpg\n",
            "./videos/train/rollup/video99_frame1.jpg\n",
            "./videos/train/rollup/video99_frame2.jpg\n",
            "./videos/train/rollup/video99_frame3.jpg\n",
            "./videos/train/rollup/video99_frame4.jpg\n",
            "./videos/train/rollup/video99_frame5.jpg\n",
            "./videos/train/rollup/video99_frame6.jpg\n",
            "./videos/train/rollup/video99_frame7.jpg\n",
            "./videos/train/rollup/video99_frame8.jpg\n",
            "./videos/train/rollup/video99_frame9.jpg\n",
            "./videos/train/rollup/video99_frame10.jpg\n",
            "./videos/train/rollup/video99_frame11.jpg\n",
            "./videos/train/rollup/video99_frame12.jpg\n",
            "./videos/train/rollup/video99_frame13.jpg\n",
            "./videos/train/rollup/video99_frame14.jpg\n",
            "./videos/train/rollup/video99_frame15.jpg\n",
            "./videos/train/rollup/video99_frame16.jpg\n",
            "./videos/train/rollup/video99_frame17.jpg\n",
            "./videos/train/rollup/video99_frame18.jpg\n",
            "./videos/train/rollup/video99_frame19.jpg\n"
          ]
        },
        {
          "output_type": "stream",
          "name": "stderr",
          "text": [
            "\r100it [01:03,  1.29s/it]"
          ]
        },
        {
          "output_type": "stream",
          "name": "stdout",
          "text": [
            "./videos/train/rollup/video99_frame20.jpg\n",
            "./videos/train/double_leg/video100_frame0.jpg\n",
            "./videos/train/double_leg/video100_frame1.jpg\n",
            "./videos/train/double_leg/video100_frame2.jpg\n",
            "./videos/train/double_leg/video100_frame3.jpg\n",
            "./videos/train/double_leg/video100_frame4.jpg\n"
          ]
        },
        {
          "output_type": "stream",
          "name": "stderr",
          "text": [
            "\r101it [01:03,  1.07s/it]"
          ]
        },
        {
          "output_type": "stream",
          "name": "stdout",
          "text": [
            "./videos/train/criss_cross/video101_frame0.jpg\n",
            "./videos/train/criss_cross/video101_frame1.jpg\n"
          ]
        },
        {
          "output_type": "stream",
          "name": "stderr",
          "text": [
            "\r102it [01:03,  1.17it/s]"
          ]
        },
        {
          "output_type": "stream",
          "name": "stdout",
          "text": [
            "./videos/train/criss_cross/video101_frame2.jpg\n",
            "./videos/train/double_leg/video102_frame0.jpg\n",
            "./videos/train/double_leg/video102_frame1.jpg\n",
            "./videos/train/double_leg/video102_frame2.jpg\n",
            "./videos/train/criss_cross/video103_frame0.jpg\n",
            "./videos/train/criss_cross/video103_frame1.jpg\n",
            "./videos/train/criss_cross/video103_frame2.jpg\n",
            "./videos/train/criss_cross/video103_frame3.jpg\n"
          ]
        },
        {
          "output_type": "stream",
          "name": "stderr",
          "text": [
            "\r104it [01:04,  1.64it/s]"
          ]
        },
        {
          "output_type": "stream",
          "name": "stdout",
          "text": [
            "./videos/train/criss_cross/video103_frame4.jpg\n",
            "./videos/train/double_leg/video104_frame0.jpg\n"
          ]
        },
        {
          "output_type": "stream",
          "name": "stderr",
          "text": [
            "105it [01:04,  1.62it/s]"
          ]
        },
        {
          "output_type": "stream",
          "name": "stdout",
          "text": [
            "./videos/train/double_leg/video104_frame1.jpg\n",
            "./videos/train/double_leg/video104_frame2.jpg\n"
          ]
        },
        {
          "output_type": "stream",
          "name": "stderr",
          "text": [
            "\n"
          ]
        }
      ]
    },
    {
      "cell_type": "code",
      "metadata": {
        "ExecuteTime": {
          "end_time": "2021-08-20T08:38:09.452821Z",
          "start_time": "2021-08-20T08:38:09.436028Z"
        },
        "colab": {
          "base_uri": "https://localhost:8080/"
        },
        "id": "hKZxYB0ZulVd",
        "outputId": "c8957043-ad48-4083-c4e0-974f92703e5d"
      },
      "source": [
        " \n",
        "train_image = []\n",
        "train_class = []\n",
        "\n",
        "for tag in tags:\n",
        "    images = glob(f\"{videos_path}/train/{tag}/*.jpg\")\n",
        "    print(f\"{videos_path}/train/{tag}/*.jpg\")\n",
        "    for i in tqdm(range(len(images))):\n",
        "        # creating the image name\n",
        "        train_image.append(images[i])\n",
        "        train_class.append(tag)\n"
      ],
      "execution_count": null,
      "outputs": [
        {
          "output_type": "stream",
          "name": "stdout",
          "text": [
            "./videos/train/criss_cross/*.jpg\n"
          ]
        },
        {
          "output_type": "stream",
          "name": "stderr",
          "text": [
            "100%|██████████| 82/82 [00:00<00:00, 109012.02it/s]\n"
          ]
        },
        {
          "output_type": "stream",
          "name": "stdout",
          "text": [
            "./videos/train/double_leg/*.jpg\n"
          ]
        },
        {
          "output_type": "stream",
          "name": "stderr",
          "text": [
            "100%|██████████| 117/117 [00:00<00:00, 497197.13it/s]\n"
          ]
        },
        {
          "output_type": "stream",
          "name": "stdout",
          "text": [
            "./videos/train/rollup/*.jpg\n"
          ]
        },
        {
          "output_type": "stream",
          "name": "stderr",
          "text": [
            "100%|██████████| 598/598 [00:00<00:00, 430148.14it/s]\n"
          ]
        }
      ]
    },
    {
      "cell_type": "code",
      "metadata": {
        "ExecuteTime": {
          "end_time": "2021-08-20T08:38:09.466659Z",
          "start_time": "2021-08-20T08:38:09.454328Z"
        },
        "id": "B34G8m737eta"
      },
      "source": [
        "train_data = pd.DataFrame()\n",
        "train_data['image'] = train_image\n",
        "train_data['class'] = train_class\n",
        "\n",
        "# converting the dataframe into csv file \n",
        "train_data.to_csv('train_new.csv',header=True, index=False)"
      ],
      "execution_count": null,
      "outputs": []
    },
    {
      "cell_type": "code",
      "metadata": {
        "ExecuteTime": {
          "end_time": "2021-08-20T08:38:09.472987Z",
          "start_time": "2021-08-20T08:38:09.468092Z"
        },
        "colab": {
          "base_uri": "https://localhost:8080/"
        },
        "id": "WwlwrLqE7k7t",
        "outputId": "c4ba4bd5-7d4b-4fff-a779-49b903d99351"
      },
      "source": [
        "train_data.shape"
      ],
      "execution_count": null,
      "outputs": [
        {
          "output_type": "execute_result",
          "data": {
            "text/plain": [
              "(797, 2)"
            ]
          },
          "metadata": {},
          "execution_count": 16
        }
      ]
    },
    {
      "cell_type": "code",
      "metadata": {
        "ExecuteTime": {
          "end_time": "2021-08-20T08:38:12.393413Z",
          "start_time": "2021-08-20T08:38:09.475209Z"
        },
        "id": "FeJkZjmS7p5k"
      },
      "source": [
        "  from tensorflow.keras.models import Sequential\n",
        "  from tensorflow.keras.applications.vgg16 import VGG16\n",
        "  from tensorflow.keras.layers import Dense, InputLayer, Dropout, Flatten\n",
        "  from tensorflow.keras.layers import Conv2D, MaxPooling2D, GlobalMaxPooling2D\n",
        "  from tensorflow.keras.preprocessing import image\n",
        "  import numpy as np\n",
        "  import pandas as pd\n",
        "  import matplotlib.pyplot as plt\n",
        "  from tqdm import tqdm\n",
        "  from sklearn.model_selection import train_test_split"
      ],
      "execution_count": null,
      "outputs": []
    },
    {
      "cell_type": "code",
      "metadata": {
        "ExecuteTime": {
          "end_time": "2021-08-20T08:38:12.413727Z",
          "start_time": "2021-08-20T08:38:12.395019Z"
        },
        "colab": {
          "base_uri": "https://localhost:8080/",
          "height": 419
        },
        "id": "mEbh5z617x48",
        "outputId": "f38c9095-0145-4075-dac0-9b097a115b8f"
      },
      "source": [
        "train = pd.read_csv('train_new.csv')\n",
        "train.head()\n",
        "train"
      ],
      "execution_count": null,
      "outputs": [
        {
          "output_type": "execute_result",
          "data": {
            "text/html": [
              "<div>\n",
              "<style scoped>\n",
              "    .dataframe tbody tr th:only-of-type {\n",
              "        vertical-align: middle;\n",
              "    }\n",
              "\n",
              "    .dataframe tbody tr th {\n",
              "        vertical-align: top;\n",
              "    }\n",
              "\n",
              "    .dataframe thead th {\n",
              "        text-align: right;\n",
              "    }\n",
              "</style>\n",
              "<table border=\"1\" class=\"dataframe\">\n",
              "  <thead>\n",
              "    <tr style=\"text-align: right;\">\n",
              "      <th></th>\n",
              "      <th>image</th>\n",
              "      <th>class</th>\n",
              "    </tr>\n",
              "  </thead>\n",
              "  <tbody>\n",
              "    <tr>\n",
              "      <th>0</th>\n",
              "      <td>./videos/train/criss_cross/video21_frame1.jpg</td>\n",
              "      <td>criss_cross</td>\n",
              "    </tr>\n",
              "    <tr>\n",
              "      <th>1</th>\n",
              "      <td>./videos/train/criss_cross/video32_frame2.jpg</td>\n",
              "      <td>criss_cross</td>\n",
              "    </tr>\n",
              "    <tr>\n",
              "      <th>2</th>\n",
              "      <td>./videos/train/criss_cross/video103_frame3.jpg</td>\n",
              "      <td>criss_cross</td>\n",
              "    </tr>\n",
              "    <tr>\n",
              "      <th>3</th>\n",
              "      <td>./videos/train/criss_cross/video42_frame2.jpg</td>\n",
              "      <td>criss_cross</td>\n",
              "    </tr>\n",
              "    <tr>\n",
              "      <th>4</th>\n",
              "      <td>./videos/train/criss_cross/video82_frame1.jpg</td>\n",
              "      <td>criss_cross</td>\n",
              "    </tr>\n",
              "    <tr>\n",
              "      <th>...</th>\n",
              "      <td>...</td>\n",
              "      <td>...</td>\n",
              "    </tr>\n",
              "    <tr>\n",
              "      <th>792</th>\n",
              "      <td>./videos/train/rollup/video96_frame6.jpg</td>\n",
              "      <td>rollup</td>\n",
              "    </tr>\n",
              "    <tr>\n",
              "      <th>793</th>\n",
              "      <td>./videos/train/rollup/video49_frame17.jpg</td>\n",
              "      <td>rollup</td>\n",
              "    </tr>\n",
              "    <tr>\n",
              "      <th>794</th>\n",
              "      <td>./videos/train/rollup/video69_frame11.jpg</td>\n",
              "      <td>rollup</td>\n",
              "    </tr>\n",
              "    <tr>\n",
              "      <th>795</th>\n",
              "      <td>./videos/train/rollup/video99_frame2.jpg</td>\n",
              "      <td>rollup</td>\n",
              "    </tr>\n",
              "    <tr>\n",
              "      <th>796</th>\n",
              "      <td>./videos/train/rollup/video51_frame3.jpg</td>\n",
              "      <td>rollup</td>\n",
              "    </tr>\n",
              "  </tbody>\n",
              "</table>\n",
              "<p>797 rows × 2 columns</p>\n",
              "</div>"
            ],
            "text/plain": [
              "                                              image        class\n",
              "0     ./videos/train/criss_cross/video21_frame1.jpg  criss_cross\n",
              "1     ./videos/train/criss_cross/video32_frame2.jpg  criss_cross\n",
              "2    ./videos/train/criss_cross/video103_frame3.jpg  criss_cross\n",
              "3     ./videos/train/criss_cross/video42_frame2.jpg  criss_cross\n",
              "4     ./videos/train/criss_cross/video82_frame1.jpg  criss_cross\n",
              "..                                              ...          ...\n",
              "792        ./videos/train/rollup/video96_frame6.jpg       rollup\n",
              "793       ./videos/train/rollup/video49_frame17.jpg       rollup\n",
              "794       ./videos/train/rollup/video69_frame11.jpg       rollup\n",
              "795        ./videos/train/rollup/video99_frame2.jpg       rollup\n",
              "796        ./videos/train/rollup/video51_frame3.jpg       rollup\n",
              "\n",
              "[797 rows x 2 columns]"
            ]
          },
          "metadata": {},
          "execution_count": 18
        }
      ]
    },
    {
      "cell_type": "code",
      "metadata": {
        "ExecuteTime": {
          "end_time": "2021-08-20T08:38:20.656315Z",
          "start_time": "2021-08-20T08:38:12.415756Z"
        },
        "colab": {
          "base_uri": "https://localhost:8080/"
        },
        "id": "g3kXi-6D7x68",
        "outputId": "b5773fcc-74a7-4ec2-8184-4db864d76be3"
      },
      "source": [
        "X = np.empty((train.shape[0], 224, 224, 3))\n",
        "# for loop to read and store frames\n",
        "for i in tqdm(range(train.shape[0])):\n",
        "    # loading the image and keeping the target size as (224,224,3)\n",
        "    img = image.load_img(train['image'][i], target_size=(224,224,3))\n",
        "    # converting it to array\n",
        "    img = image.img_to_array(img)\n",
        "    # normalizing the pixel value\n",
        "    img = img/255\n",
        "    # appending the image to the train_image list\n",
        "    X[i] = img"
      ],
      "execution_count": null,
      "outputs": [
        {
          "output_type": "stream",
          "name": "stderr",
          "text": [
            "100%|██████████| 797/797 [00:07<00:00, 100.42it/s]\n"
          ]
        }
      ]
    },
    {
      "cell_type": "code",
      "metadata": {
        "ExecuteTime": {
          "end_time": "2021-08-20T08:38:20.661822Z",
          "start_time": "2021-08-20T08:38:20.657859Z"
        },
        "colab": {
          "base_uri": "https://localhost:8080/"
        },
        "id": "_lK0nh8Y7x8-",
        "outputId": "fa2cd48a-58fe-44e0-eee9-d454bef8c671"
      },
      "source": [
        "X.shape"
      ],
      "execution_count": null,
      "outputs": [
        {
          "output_type": "execute_result",
          "data": {
            "text/plain": [
              "(797, 224, 224, 3)"
            ]
          },
          "metadata": {},
          "execution_count": 20
        }
      ]
    },
    {
      "cell_type": "code",
      "metadata": {
        "ExecuteTime": {
          "end_time": "2021-08-20T08:38:20.668351Z",
          "start_time": "2021-08-20T08:38:20.663620Z"
        },
        "id": "JI7gIj9G7yBc"
      },
      "source": [
        "y = train['class']"
      ],
      "execution_count": null,
      "outputs": []
    },
    {
      "cell_type": "code",
      "metadata": {
        "ExecuteTime": {
          "end_time": "2021-08-20T08:38:21.622438Z",
          "start_time": "2021-08-20T08:38:20.670724Z"
        },
        "id": "bMr8Wk0h-TDs"
      },
      "source": [
        "X_train, X_test, y_train, y_test = train_test_split(X, y, random_state=42, test_size=0.2, stratify = y)\n"
      ],
      "execution_count": null,
      "outputs": []
    },
    {
      "cell_type": "code",
      "metadata": {
        "ExecuteTime": {
          "end_time": "2021-08-20T08:38:21.637559Z",
          "start_time": "2021-08-20T08:38:21.624006Z"
        },
        "colab": {
          "base_uri": "https://localhost:8080/",
          "height": 419
        },
        "id": "1Smx1LuW7yDT",
        "outputId": "8fe8e823-2766-4b80-b482-abd2c207cd2f"
      },
      "source": [
        "y_train = pd.get_dummies(y_train)\n",
        "y_test = pd.get_dummies(y_test)\n",
        "y_train"
      ],
      "execution_count": null,
      "outputs": [
        {
          "output_type": "execute_result",
          "data": {
            "text/html": [
              "<div>\n",
              "<style scoped>\n",
              "    .dataframe tbody tr th:only-of-type {\n",
              "        vertical-align: middle;\n",
              "    }\n",
              "\n",
              "    .dataframe tbody tr th {\n",
              "        vertical-align: top;\n",
              "    }\n",
              "\n",
              "    .dataframe thead th {\n",
              "        text-align: right;\n",
              "    }\n",
              "</style>\n",
              "<table border=\"1\" class=\"dataframe\">\n",
              "  <thead>\n",
              "    <tr style=\"text-align: right;\">\n",
              "      <th></th>\n",
              "      <th>criss_cross</th>\n",
              "      <th>double_leg</th>\n",
              "      <th>rollup</th>\n",
              "    </tr>\n",
              "  </thead>\n",
              "  <tbody>\n",
              "    <tr>\n",
              "      <th>411</th>\n",
              "      <td>0</td>\n",
              "      <td>0</td>\n",
              "      <td>1</td>\n",
              "    </tr>\n",
              "    <tr>\n",
              "      <th>681</th>\n",
              "      <td>0</td>\n",
              "      <td>0</td>\n",
              "      <td>1</td>\n",
              "    </tr>\n",
              "    <tr>\n",
              "      <th>632</th>\n",
              "      <td>0</td>\n",
              "      <td>0</td>\n",
              "      <td>1</td>\n",
              "    </tr>\n",
              "    <tr>\n",
              "      <th>384</th>\n",
              "      <td>0</td>\n",
              "      <td>0</td>\n",
              "      <td>1</td>\n",
              "    </tr>\n",
              "    <tr>\n",
              "      <th>735</th>\n",
              "      <td>0</td>\n",
              "      <td>0</td>\n",
              "      <td>1</td>\n",
              "    </tr>\n",
              "    <tr>\n",
              "      <th>...</th>\n",
              "      <td>...</td>\n",
              "      <td>...</td>\n",
              "      <td>...</td>\n",
              "    </tr>\n",
              "    <tr>\n",
              "      <th>426</th>\n",
              "      <td>0</td>\n",
              "      <td>0</td>\n",
              "      <td>1</td>\n",
              "    </tr>\n",
              "    <tr>\n",
              "      <th>50</th>\n",
              "      <td>1</td>\n",
              "      <td>0</td>\n",
              "      <td>0</td>\n",
              "    </tr>\n",
              "    <tr>\n",
              "      <th>521</th>\n",
              "      <td>0</td>\n",
              "      <td>0</td>\n",
              "      <td>1</td>\n",
              "    </tr>\n",
              "    <tr>\n",
              "      <th>72</th>\n",
              "      <td>1</td>\n",
              "      <td>0</td>\n",
              "      <td>0</td>\n",
              "    </tr>\n",
              "    <tr>\n",
              "      <th>171</th>\n",
              "      <td>0</td>\n",
              "      <td>1</td>\n",
              "      <td>0</td>\n",
              "    </tr>\n",
              "  </tbody>\n",
              "</table>\n",
              "<p>637 rows × 3 columns</p>\n",
              "</div>"
            ],
            "text/plain": [
              "     criss_cross  double_leg  rollup\n",
              "411            0           0       1\n",
              "681            0           0       1\n",
              "632            0           0       1\n",
              "384            0           0       1\n",
              "735            0           0       1\n",
              "..           ...         ...     ...\n",
              "426            0           0       1\n",
              "50             1           0       0\n",
              "521            0           0       1\n",
              "72             1           0       0\n",
              "171            0           1       0\n",
              "\n",
              "[637 rows x 3 columns]"
            ]
          },
          "metadata": {},
          "execution_count": 23
        }
      ]
    },
    {
      "cell_type": "code",
      "metadata": {
        "ExecuteTime": {
          "end_time": "2021-08-20T08:38:22.157805Z",
          "start_time": "2021-08-20T08:38:21.639607Z"
        },
        "id": "ASexLTa07yFm",
        "colab": {
          "base_uri": "https://localhost:8080/"
        },
        "outputId": "cfbdf4af-f615-406c-c84d-556d4e9c122f"
      },
      "source": [
        "base_model = VGG16(weights='imagenet', include_top=False)"
      ],
      "execution_count": null,
      "outputs": [
        {
          "output_type": "stream",
          "name": "stdout",
          "text": [
            "Downloading data from https://storage.googleapis.com/tensorflow/keras-applications/vgg16/vgg16_weights_tf_dim_ordering_tf_kernels_notop.h5\n",
            "58892288/58889256 [==============================] - 0s 0us/step\n",
            "58900480/58889256 [==============================] - 0s 0us/step\n"
          ]
        }
      ]
    },
    {
      "cell_type": "code",
      "metadata": {
        "ExecuteTime": {
          "end_time": "2021-08-20T08:39:56.255047Z",
          "start_time": "2021-08-20T08:38:22.159834Z"
        },
        "colab": {
          "base_uri": "https://localhost:8080/"
        },
        "id": "vEnrQORn9_-J",
        "outputId": "0a336702-ec8c-420c-c5a7-2f643c0fe26f"
      },
      "source": [
        "X_train = base_model.predict(X_train)\n",
        "X_train.shape"
      ],
      "execution_count": null,
      "outputs": [
        {
          "output_type": "execute_result",
          "data": {
            "text/plain": [
              "(637, 7, 7, 512)"
            ]
          },
          "metadata": {},
          "execution_count": 25
        }
      ]
    },
    {
      "cell_type": "code",
      "metadata": {
        "ExecuteTime": {
          "end_time": "2021-08-20T08:40:17.296644Z",
          "start_time": "2021-08-20T08:39:56.256702Z"
        },
        "colab": {
          "base_uri": "https://localhost:8080/"
        },
        "id": "DRSy6Tnp-Z5S",
        "outputId": "55f4bd85-686f-4afe-dcd1-0991f688c619"
      },
      "source": [
        "X_test = base_model.predict(X_test)\n",
        "X_test.shape"
      ],
      "execution_count": null,
      "outputs": [
        {
          "output_type": "execute_result",
          "data": {
            "text/plain": [
              "(160, 7, 7, 512)"
            ]
          },
          "metadata": {},
          "execution_count": 26
        }
      ]
    },
    {
      "cell_type": "code",
      "metadata": {
        "ExecuteTime": {
          "end_time": "2021-08-20T08:40:17.302337Z",
          "start_time": "2021-08-20T08:40:17.298901Z"
        },
        "id": "V6l1nHpP-Z98"
      },
      "source": [
        "X_train = X_train.reshape(X_train.shape[0], 7*7*512)\n",
        "X_test = X_test.reshape(X_test.shape[0], 7*7*512)"
      ],
      "execution_count": null,
      "outputs": []
    },
    {
      "cell_type": "code",
      "metadata": {
        "ExecuteTime": {
          "end_time": "2021-08-20T08:40:17.357237Z",
          "start_time": "2021-08-20T08:40:17.308803Z"
        },
        "colab": {
          "base_uri": "https://localhost:8080/"
        },
        "id": "DuKnMAIl-aCr",
        "outputId": "5dd1e3e2-1d88-4253-d4c4-15a3376a14a9"
      },
      "source": [
        "max = X_train.max()\n",
        "X_train = X_train/max\n",
        "X_test = X_test/max\n",
        "print(X_train.shape)\n",
        "X_test.shape"
      ],
      "execution_count": null,
      "outputs": [
        {
          "output_type": "stream",
          "name": "stdout",
          "text": [
            "(637, 25088)\n"
          ]
        },
        {
          "output_type": "execute_result",
          "data": {
            "text/plain": [
              "(160, 25088)"
            ]
          },
          "metadata": {},
          "execution_count": 28
        }
      ]
    },
    {
      "cell_type": "code",
      "metadata": {
        "ExecuteTime": {
          "end_time": "2021-08-20T08:40:17.562572Z",
          "start_time": "2021-08-20T08:40:17.361827Z"
        },
        "id": "pDjCHxiz-aFF"
      },
      "source": [
        "model = Sequential()\n",
        "model.add(Dense(1024, activation='relu', input_shape=(25088,)))\n",
        "model.add(Dropout(0.5))\n",
        "model.add(Dense(512, activation='relu'))\n",
        "model.add(Dropout(0.5))\n",
        "model.add(Dense(256, activation='relu'))\n",
        "model.add(Dropout(0.5))\n",
        "model.add(Dense(128, activation='relu'))\n",
        "model.add(Dropout(0.5))\n",
        "model.add(Dense(3, activation='softmax'))"
      ],
      "execution_count": null,
      "outputs": []
    },
    {
      "cell_type": "code",
      "metadata": {
        "ExecuteTime": {
          "end_time": "2021-08-20T08:40:17.568779Z",
          "start_time": "2021-08-20T08:40:17.565443Z"
        },
        "id": "CafWtfE0-AAJ"
      },
      "source": [
        "# defining a function to save the weights of best model\n",
        "from tensorflow.keras.callbacks import ModelCheckpoint\n",
        "mcp_save = ModelCheckpoint('weight.hdf55', save_best_only=True, monitor='val_loss', mode='min')"
      ],
      "execution_count": null,
      "outputs": []
    },
    {
      "cell_type": "code",
      "metadata": {
        "ExecuteTime": {
          "end_time": "2021-08-20T08:40:17.780232Z",
          "start_time": "2021-08-20T08:40:17.570856Z"
        },
        "id": "M19jLo_w-ACb"
      },
      "source": [
        "# compiling the model\n",
        "model.compile(loss='categorical_crossentropy',optimizer='Adam',metrics=['accuracy'])"
      ],
      "execution_count": null,
      "outputs": []
    },
    {
      "cell_type": "code",
      "metadata": {
        "ExecuteTime": {
          "end_time": "2021-08-20T08:42:09.118922Z",
          "start_time": "2021-08-20T08:40:17.782784Z"
        },
        "colab": {
          "base_uri": "https://localhost:8080/"
        },
        "id": "L9-E9otT-AE3",
        "outputId": "53f2eb6f-30aa-45ee-df8b-9572d7ab3210"
      },
      "source": [
        "# training the model\n",
        "model.fit(X_train, y_train, epochs=20, validation_data=(X_test, y_test), callbacks=[mcp_save], batch_size=16)"
      ],
      "execution_count": null,
      "outputs": [
        {
          "output_type": "stream",
          "name": "stdout",
          "text": [
            "Epoch 1/20\n",
            "40/40 [==============================] - 1s 14ms/step - loss: 0.9948 - accuracy: 0.6641 - val_loss: 0.7254 - val_accuracy: 0.7500\n",
            "INFO:tensorflow:Assets written to: weight.hdf55/assets\n",
            "Epoch 2/20\n",
            "40/40 [==============================] - 0s 11ms/step - loss: 0.7585 - accuracy: 0.7347 - val_loss: 0.6308 - val_accuracy: 0.7500\n",
            "INFO:tensorflow:Assets written to: weight.hdf55/assets\n",
            "Epoch 3/20\n",
            "40/40 [==============================] - 0s 10ms/step - loss: 0.5829 - accuracy: 0.7661 - val_loss: 0.3399 - val_accuracy: 0.8438\n",
            "INFO:tensorflow:Assets written to: weight.hdf55/assets\n",
            "Epoch 4/20\n",
            "40/40 [==============================] - 0s 10ms/step - loss: 0.3409 - accuracy: 0.8462 - val_loss: 0.2006 - val_accuracy: 0.9000\n",
            "INFO:tensorflow:Assets written to: weight.hdf55/assets\n",
            "Epoch 5/20\n",
            "40/40 [==============================] - 0s 9ms/step - loss: 0.2228 - accuracy: 0.8838 - val_loss: 0.1750 - val_accuracy: 0.9000\n",
            "INFO:tensorflow:Assets written to: weight.hdf55/assets\n",
            "Epoch 6/20\n",
            "40/40 [==============================] - 0s 11ms/step - loss: 0.2051 - accuracy: 0.8901 - val_loss: 0.1591 - val_accuracy: 0.9000\n",
            "INFO:tensorflow:Assets written to: weight.hdf55/assets\n",
            "Epoch 7/20\n",
            "40/40 [==============================] - 0s 9ms/step - loss: 0.1742 - accuracy: 0.9278 - val_loss: 0.1082 - val_accuracy: 0.9500\n",
            "INFO:tensorflow:Assets written to: weight.hdf55/assets\n",
            "Epoch 8/20\n",
            "40/40 [==============================] - 0s 10ms/step - loss: 0.0964 - accuracy: 0.9639 - val_loss: 0.0838 - val_accuracy: 0.9812\n",
            "INFO:tensorflow:Assets written to: weight.hdf55/assets\n",
            "Epoch 9/20\n",
            "40/40 [==============================] - 0s 10ms/step - loss: 0.0875 - accuracy: 0.9780 - val_loss: 0.1829 - val_accuracy: 0.9438\n",
            "Epoch 10/20\n",
            "40/40 [==============================] - 0s 8ms/step - loss: 0.1244 - accuracy: 0.9655 - val_loss: 0.0778 - val_accuracy: 0.9625\n",
            "INFO:tensorflow:Assets written to: weight.hdf55/assets\n",
            "Epoch 11/20\n",
            "40/40 [==============================] - 0s 10ms/step - loss: 0.0857 - accuracy: 0.9765 - val_loss: 0.0756 - val_accuracy: 0.9625\n",
            "INFO:tensorflow:Assets written to: weight.hdf55/assets\n",
            "Epoch 12/20\n",
            "40/40 [==============================] - 0s 10ms/step - loss: 0.0730 - accuracy: 0.9780 - val_loss: 0.0607 - val_accuracy: 0.9750\n",
            "INFO:tensorflow:Assets written to: weight.hdf55/assets\n",
            "Epoch 13/20\n",
            "40/40 [==============================] - 0s 10ms/step - loss: 0.0331 - accuracy: 0.9890 - val_loss: 0.0719 - val_accuracy: 0.9688\n",
            "Epoch 14/20\n",
            "40/40 [==============================] - 0s 9ms/step - loss: 0.0459 - accuracy: 0.9890 - val_loss: 0.1068 - val_accuracy: 0.9750\n",
            "Epoch 15/20\n",
            "40/40 [==============================] - 0s 10ms/step - loss: 0.1096 - accuracy: 0.9733 - val_loss: 0.0700 - val_accuracy: 0.9812\n",
            "Epoch 16/20\n",
            "40/40 [==============================] - 0s 10ms/step - loss: 0.0548 - accuracy: 0.9827 - val_loss: 0.1377 - val_accuracy: 0.9625\n",
            "Epoch 17/20\n",
            "40/40 [==============================] - 0s 10ms/step - loss: 0.0328 - accuracy: 0.9890 - val_loss: 0.1081 - val_accuracy: 0.9688\n",
            "Epoch 18/20\n",
            "40/40 [==============================] - 0s 9ms/step - loss: 0.0245 - accuracy: 0.9874 - val_loss: 0.0729 - val_accuracy: 0.9812\n",
            "Epoch 19/20\n",
            "40/40 [==============================] - 0s 9ms/step - loss: 0.0252 - accuracy: 0.9937 - val_loss: 0.0437 - val_accuracy: 0.9875\n",
            "INFO:tensorflow:Assets written to: weight.hdf55/assets\n",
            "Epoch 20/20\n",
            "40/40 [==============================] - 0s 10ms/step - loss: 0.0071 - accuracy: 0.9969 - val_loss: 0.0638 - val_accuracy: 0.9812\n"
          ]
        },
        {
          "output_type": "execute_result",
          "data": {
            "text/plain": [
              "<keras.callbacks.History at 0x7f5abc31bdd0>"
            ]
          },
          "metadata": {},
          "execution_count": 32
        }
      ]
    },
    {
      "cell_type": "markdown",
      "metadata": {
        "id": "zmbKbsb5r-xD"
      },
      "source": [
        "bold text# New section"
      ]
    },
    {
      "cell_type": "code",
      "metadata": {
        "id": "Mpinelz4HRtm"
      },
      "source": [
        ""
      ],
      "execution_count": null,
      "outputs": []
    },
    {
      "cell_type": "code",
      "metadata": {
        "ExecuteTime": {
          "end_time": "2021-08-20T08:42:09.338952Z",
          "start_time": "2021-08-20T08:42:09.120264Z"
        },
        "colab": {
          "base_uri": "https://localhost:8080/"
        },
        "id": "OlT8vmD99_E_",
        "outputId": "c0b73332-8779-4323-8519-0a8cf57f7e2d"
      },
      "source": [
        "model.load_weights(\"weight.hdf55\")"
      ],
      "execution_count": null,
      "outputs": [
        {
          "output_type": "execute_result",
          "data": {
            "text/plain": [
              "<tensorflow.python.training.tracking.util.CheckpointLoadStatus at 0x7f5a5b80ccd0>"
            ]
          },
          "metadata": {},
          "execution_count": 33
        }
      ]
    },
    {
      "cell_type": "code",
      "metadata": {
        "ExecuteTime": {
          "end_time": "2021-08-20T08:42:09.364866Z",
          "start_time": "2021-08-20T08:42:09.340472Z"
        },
        "id": "C0omoYJ79_HY"
      },
      "source": [
        "model.compile(loss='categorical_crossentropy',optimizer='Adam',metrics=['accuracy'])"
      ],
      "execution_count": null,
      "outputs": []
    },
    {
      "cell_type": "code",
      "metadata": {
        "ExecuteTime": {
          "end_time": "2021-08-20T08:42:09.379423Z",
          "start_time": "2021-08-20T08:42:09.366379Z"
        },
        "colab": {
          "base_uri": "https://localhost:8080/",
          "height": 1000
        },
        "id": "AdclCeWH9_Jw",
        "outputId": "1d576a49-8a59-4dca-c8e2-4a7ee9c802de"
      },
      "source": [
        "videos_path = './validation'\n",
        "\n",
        "videos_folder = os.listdir(videos_path)\n",
        "videos_tags_list = []\n",
        "for exercise_folder in os.listdir(path=videos_path):\n",
        "    if not exercise_folder.startswith('.'):  # skip hidden files\n",
        "        for video in os.listdir(path=f'{videos_path}/{exercise_folder}'):\n",
        "            videos_tags_list.append({'Name': video, 'Tag': exercise_folder})           \n",
        "df_validation = pd.DataFrame(data=videos_tags_list)\n",
        "df_validation"
      ],
      "execution_count": null,
      "outputs": [
        {
          "output_type": "execute_result",
          "data": {
            "text/html": [
              "<div>\n",
              "<style scoped>\n",
              "    .dataframe tbody tr th:only-of-type {\n",
              "        vertical-align: middle;\n",
              "    }\n",
              "\n",
              "    .dataframe tbody tr th {\n",
              "        vertical-align: top;\n",
              "    }\n",
              "\n",
              "    .dataframe thead th {\n",
              "        text-align: right;\n",
              "    }\n",
              "</style>\n",
              "<table border=\"1\" class=\"dataframe\">\n",
              "  <thead>\n",
              "    <tr style=\"text-align: right;\">\n",
              "      <th></th>\n",
              "      <th>Name</th>\n",
              "      <th>Tag</th>\n",
              "    </tr>\n",
              "  </thead>\n",
              "  <tbody>\n",
              "    <tr>\n",
              "      <th>0</th>\n",
              "      <td>4D2Xp6LmwYPY.mkv</td>\n",
              "      <td>criss_cross</td>\n",
              "    </tr>\n",
              "    <tr>\n",
              "      <th>1</th>\n",
              "      <td>0BSMS3ER8KqU.mkv</td>\n",
              "      <td>criss_cross</td>\n",
              "    </tr>\n",
              "    <tr>\n",
              "      <th>2</th>\n",
              "      <td>11fQiCxMwfjX0.mkv</td>\n",
              "      <td>criss_cross</td>\n",
              "    </tr>\n",
              "    <tr>\n",
              "      <th>3</th>\n",
              "      <td>2BSMS3ER8KqU.mkv</td>\n",
              "      <td>criss_cross</td>\n",
              "    </tr>\n",
              "    <tr>\n",
              "      <th>4</th>\n",
              "      <td>6CzZnlEf-Y8A.mkv</td>\n",
              "      <td>criss_cross</td>\n",
              "    </tr>\n",
              "    <tr>\n",
              "      <th>5</th>\n",
              "      <td>9fQiCxMwfjX0.mkv</td>\n",
              "      <td>criss_cross</td>\n",
              "    </tr>\n",
              "    <tr>\n",
              "      <th>6</th>\n",
              "      <td>16scvPiteYVWw.mkv</td>\n",
              "      <td>criss_cross</td>\n",
              "    </tr>\n",
              "    <tr>\n",
              "      <th>7</th>\n",
              "      <td>7fQiCxMwfjX0.mkv</td>\n",
              "      <td>criss_cross</td>\n",
              "    </tr>\n",
              "    <tr>\n",
              "      <th>8</th>\n",
              "      <td>5o2aamD_J8AM.mkv</td>\n",
              "      <td>criss_cross</td>\n",
              "    </tr>\n",
              "    <tr>\n",
              "      <th>9</th>\n",
              "      <td>10fQiCxMwfjX0.mkv</td>\n",
              "      <td>criss_cross</td>\n",
              "    </tr>\n",
              "    <tr>\n",
              "      <th>10</th>\n",
              "      <td>14VYDOWnxqqyk.mkv</td>\n",
              "      <td>criss_cross</td>\n",
              "    </tr>\n",
              "    <tr>\n",
              "      <th>11</th>\n",
              "      <td>15VYDOWnxqqyk.mkv</td>\n",
              "      <td>criss_cross</td>\n",
              "    </tr>\n",
              "    <tr>\n",
              "      <th>12</th>\n",
              "      <td>17scvPiteYVWw.mkv</td>\n",
              "      <td>criss_cross</td>\n",
              "    </tr>\n",
              "    <tr>\n",
              "      <th>13</th>\n",
              "      <td>13VYDOWnxqqyk.mkv</td>\n",
              "      <td>criss_cross</td>\n",
              "    </tr>\n",
              "    <tr>\n",
              "      <th>14</th>\n",
              "      <td>18scvPiteYVWw.mkv</td>\n",
              "      <td>criss_cross</td>\n",
              "    </tr>\n",
              "    <tr>\n",
              "      <th>15</th>\n",
              "      <td>1BSMS3ER8KqU.mkv</td>\n",
              "      <td>criss_cross</td>\n",
              "    </tr>\n",
              "    <tr>\n",
              "      <th>16</th>\n",
              "      <td>11Km1YxK4MO-I.mkv</td>\n",
              "      <td>double_leg</td>\n",
              "    </tr>\n",
              "    <tr>\n",
              "      <th>17</th>\n",
              "      <td>12Km1YxK4MO-I.mkv</td>\n",
              "      <td>double_leg</td>\n",
              "    </tr>\n",
              "    <tr>\n",
              "      <th>18</th>\n",
              "      <td>4UdSPPzC4ZEs.mkv</td>\n",
              "      <td>double_leg</td>\n",
              "    </tr>\n",
              "    <tr>\n",
              "      <th>19</th>\n",
              "      <td>14c6NqE82Pkpg.mkv</td>\n",
              "      <td>double_leg</td>\n",
              "    </tr>\n",
              "    <tr>\n",
              "      <th>20</th>\n",
              "      <td>6UdSPPzC4ZEs.mkv</td>\n",
              "      <td>double_leg</td>\n",
              "    </tr>\n",
              "    <tr>\n",
              "      <th>21</th>\n",
              "      <td>13c6NqE82Pkpg.mkv</td>\n",
              "      <td>double_leg</td>\n",
              "    </tr>\n",
              "    <tr>\n",
              "      <th>22</th>\n",
              "      <td>8q0FDZiwkCek.mkv</td>\n",
              "      <td>double_leg</td>\n",
              "    </tr>\n",
              "    <tr>\n",
              "      <th>23</th>\n",
              "      <td>5UdSPPzC4ZEs.mkv</td>\n",
              "      <td>double_leg</td>\n",
              "    </tr>\n",
              "    <tr>\n",
              "      <th>24</th>\n",
              "      <td>0UdSPPzC4ZEs.mkv</td>\n",
              "      <td>double_leg</td>\n",
              "    </tr>\n",
              "    <tr>\n",
              "      <th>25</th>\n",
              "      <td>2UdSPPzC4ZEs.mkv</td>\n",
              "      <td>double_leg</td>\n",
              "    </tr>\n",
              "    <tr>\n",
              "      <th>26</th>\n",
              "      <td>16c6NqE82Pkpg.mkv</td>\n",
              "      <td>double_leg</td>\n",
              "    </tr>\n",
              "    <tr>\n",
              "      <th>27</th>\n",
              "      <td>9q0FDZiwkCek.mkv</td>\n",
              "      <td>double_leg</td>\n",
              "    </tr>\n",
              "    <tr>\n",
              "      <th>28</th>\n",
              "      <td>3UdSPPzC4ZEs.mkv</td>\n",
              "      <td>double_leg</td>\n",
              "    </tr>\n",
              "    <tr>\n",
              "      <th>29</th>\n",
              "      <td>10Km1YxK4MO-I.mkv</td>\n",
              "      <td>double_leg</td>\n",
              "    </tr>\n",
              "    <tr>\n",
              "      <th>30</th>\n",
              "      <td>7q0FDZiwkCek.mkv</td>\n",
              "      <td>double_leg</td>\n",
              "    </tr>\n",
              "    <tr>\n",
              "      <th>31</th>\n",
              "      <td>2FZNwIJ03fhQ.mkv</td>\n",
              "      <td>rollup</td>\n",
              "    </tr>\n",
              "    <tr>\n",
              "      <th>32</th>\n",
              "      <td>1HB9ex7zlpcE.mkv</td>\n",
              "      <td>rollup</td>\n",
              "    </tr>\n",
              "    <tr>\n",
              "      <th>33</th>\n",
              "      <td>6QCXlenJqEoc.mkv</td>\n",
              "      <td>rollup</td>\n",
              "    </tr>\n",
              "    <tr>\n",
              "      <th>34</th>\n",
              "      <td>9S7kw7kU2hrI.mkv</td>\n",
              "      <td>rollup</td>\n",
              "    </tr>\n",
              "    <tr>\n",
              "      <th>35</th>\n",
              "      <td>8S7kw7kU2hrI.mkv</td>\n",
              "      <td>rollup</td>\n",
              "    </tr>\n",
              "    <tr>\n",
              "      <th>36</th>\n",
              "      <td>3K1wldTaylZU.mkv</td>\n",
              "      <td>rollup</td>\n",
              "    </tr>\n",
              "    <tr>\n",
              "      <th>37</th>\n",
              "      <td>5NwYyamStxB4.mkv</td>\n",
              "      <td>rollup</td>\n",
              "    </tr>\n",
              "    <tr>\n",
              "      <th>38</th>\n",
              "      <td>4NwYyamStxB4.mkv</td>\n",
              "      <td>rollup</td>\n",
              "    </tr>\n",
              "    <tr>\n",
              "      <th>39</th>\n",
              "      <td>0HB9ex7zlpcE.mkv</td>\n",
              "      <td>rollup</td>\n",
              "    </tr>\n",
              "    <tr>\n",
              "      <th>40</th>\n",
              "      <td>7S7kw7kU2hrI.mkv</td>\n",
              "      <td>rollup</td>\n",
              "    </tr>\n",
              "  </tbody>\n",
              "</table>\n",
              "</div>"
            ],
            "text/plain": [
              "                 Name          Tag\n",
              "0    4D2Xp6LmwYPY.mkv  criss_cross\n",
              "1    0BSMS3ER8KqU.mkv  criss_cross\n",
              "2   11fQiCxMwfjX0.mkv  criss_cross\n",
              "3    2BSMS3ER8KqU.mkv  criss_cross\n",
              "4    6CzZnlEf-Y8A.mkv  criss_cross\n",
              "5    9fQiCxMwfjX0.mkv  criss_cross\n",
              "6   16scvPiteYVWw.mkv  criss_cross\n",
              "7    7fQiCxMwfjX0.mkv  criss_cross\n",
              "8    5o2aamD_J8AM.mkv  criss_cross\n",
              "9   10fQiCxMwfjX0.mkv  criss_cross\n",
              "10  14VYDOWnxqqyk.mkv  criss_cross\n",
              "11  15VYDOWnxqqyk.mkv  criss_cross\n",
              "12  17scvPiteYVWw.mkv  criss_cross\n",
              "13  13VYDOWnxqqyk.mkv  criss_cross\n",
              "14  18scvPiteYVWw.mkv  criss_cross\n",
              "15   1BSMS3ER8KqU.mkv  criss_cross\n",
              "16  11Km1YxK4MO-I.mkv   double_leg\n",
              "17  12Km1YxK4MO-I.mkv   double_leg\n",
              "18   4UdSPPzC4ZEs.mkv   double_leg\n",
              "19  14c6NqE82Pkpg.mkv   double_leg\n",
              "20   6UdSPPzC4ZEs.mkv   double_leg\n",
              "21  13c6NqE82Pkpg.mkv   double_leg\n",
              "22   8q0FDZiwkCek.mkv   double_leg\n",
              "23   5UdSPPzC4ZEs.mkv   double_leg\n",
              "24   0UdSPPzC4ZEs.mkv   double_leg\n",
              "25   2UdSPPzC4ZEs.mkv   double_leg\n",
              "26  16c6NqE82Pkpg.mkv   double_leg\n",
              "27   9q0FDZiwkCek.mkv   double_leg\n",
              "28   3UdSPPzC4ZEs.mkv   double_leg\n",
              "29  10Km1YxK4MO-I.mkv   double_leg\n",
              "30   7q0FDZiwkCek.mkv   double_leg\n",
              "31   2FZNwIJ03fhQ.mkv       rollup\n",
              "32   1HB9ex7zlpcE.mkv       rollup\n",
              "33   6QCXlenJqEoc.mkv       rollup\n",
              "34   9S7kw7kU2hrI.mkv       rollup\n",
              "35   8S7kw7kU2hrI.mkv       rollup\n",
              "36   3K1wldTaylZU.mkv       rollup\n",
              "37   5NwYyamStxB4.mkv       rollup\n",
              "38   4NwYyamStxB4.mkv       rollup\n",
              "39   0HB9ex7zlpcE.mkv       rollup\n",
              "40   7S7kw7kU2hrI.mkv       rollup"
            ]
          },
          "metadata": {},
          "execution_count": 35
        }
      ]
    },
    {
      "cell_type": "code",
      "metadata": {
        "ExecuteTime": {
          "end_time": "2021-08-20T09:16:27.539209Z",
          "start_time": "2021-08-20T09:16:27.536036Z"
        },
        "id": "D1LUxTj6obx9"
      },
      "source": [
        "df_validation.drop(index=[0,1,2,3], inplace=True)"
      ],
      "execution_count": null,
      "outputs": []
    },
    {
      "cell_type": "code",
      "metadata": {
        "ExecuteTime": {
          "end_time": "2021-08-20T09:18:25.393802Z",
          "start_time": "2021-08-20T09:18:25.389062Z"
        },
        "id": "isNH63xEobx9"
      },
      "source": [
        "y = pd.get_dummies(y)"
      ],
      "execution_count": null,
      "outputs": []
    },
    {
      "cell_type": "code",
      "metadata": {
        "id": "A-j8pCO0sQ-S"
      },
      "source": [
        "os.mkdir(f'{videos_path}'+'/'+\"valid/\")\n",
        "\n",
        "for tag in tags:\n",
        "  os.mkdir(f'{videos_path}'+'/'+\"valid/\"+ tag)\n"
      ],
      "execution_count": null,
      "outputs": []
    },
    {
      "cell_type": "code",
      "metadata": {
        "ExecuteTime": {
          "end_time": "2021-08-20T09:59:19.712601Z",
          "start_time": "2021-08-20T09:58:27.718823Z"
        },
        "colab": {
          "base_uri": "https://localhost:8080/"
        },
        "id": "lFeJxOZ29_MA",
        "outputId": "05b4b75e-99c3-4816-8462-87f1c091745f"
      },
      "source": [
        "# creating two lists to store predicted and actual tags\n",
        "predict = []\n",
        "# predict_dict = {}\n",
        "actual = []\n",
        "count2 = 0\n",
        "# actual = {}\n",
        "\n",
        "for video in tqdm(df_validation.itertuples(index=False)):    \n",
        "    count = 0\n",
        "    videoFile = video[0]\n",
        "    tag = video[1]\n",
        "    cap = cv2.VideoCapture(f'{videos_path}/'+f'{tag}'+'/'+videoFile)   # capturing the video from the given path\n",
        "    print(f'{videos_path}/'+f'{tag}'+'/'+videoFile)\n",
        "    actual.append(tag)\n",
        "    # actual[video[0]:video[1]]\n",
        "    frameRate = cap.get(5) #frame rate\n",
        "    x=1\n",
        "    while cap.isOpened():\n",
        "        frameId = cap.get(1) #current frame number\n",
        "        ret, frame = cap.read()\n",
        "        if (ret != True):\n",
        "            break\n",
        "        if (frameId % math.floor(frameRate) == 0):\n",
        "          # storing the frames in a new folder named train_1\n",
        "\n",
        "          filename =f'{videos_path}'+'/valid/' +f'{tag}/'+f\"video{count2}_frame%d.jpg\" % count; count+=1\n",
        "          cv2.imwrite(filename, frame)\n",
        "    count2 += 1\n",
        "    cap.release()\n",
        "\n",
        "    prediction_images = []   \n",
        "    for tag in tags:\n",
        "        images = glob(f\"{videos_path}/valid/{tag}/*.jpg\")\n",
        "        for i in range(len(images)):\n",
        "            img = image.load_img(images[i], target_size=(224,224,3))\n",
        "            img = image.img_to_array(img)\n",
        "            img = img/255\n",
        "            prediction_images.append(img)\n",
        "\n",
        "    # converting all the frames for a test video into numpy array\n",
        "    prediction_images = np.array(prediction_images)\n",
        "    # extracting features using pre-trained model\n",
        "    prediction_images = base_model.predict(prediction_images)\n",
        "    # converting features in one dimensional array\n",
        "    prediction_images = prediction_images.reshape(prediction_images.shape[0], 7*7*512)\n",
        "    # predicting tags for each array\n",
        "#     prediction = model.predict_classes(prediction_images)\n",
        "    prediction = np.argmax(model.predict(prediction_images), axis=-1)\n",
        "    # appending the mode of predictions in predict list to assign the tag to the video\n",
        "    predict.append(y.columns.values[stats.mode(prediction)[0][0]])\n",
        "    print(predict, actual)\n"
      ],
      "execution_count": null,
      "outputs": [
        {
          "output_type": "stream",
          "name": "stderr",
          "text": [
            "\r0it [00:00, ?it/s]"
          ]
        },
        {
          "output_type": "stream",
          "name": "stdout",
          "text": [
            "./validation/criss_cross/4D2Xp6LmwYPY.mkv\n"
          ]
        },
        {
          "output_type": "stream",
          "name": "stderr",
          "text": [
            "\r1it [00:01,  1.94s/it]"
          ]
        },
        {
          "output_type": "stream",
          "name": "stdout",
          "text": [
            "['rollup'] ['criss_cross']\n",
            "./validation/criss_cross/0BSMS3ER8KqU.mkv\n"
          ]
        },
        {
          "output_type": "stream",
          "name": "stderr",
          "text": [
            "\r2it [00:03,  1.91s/it]"
          ]
        },
        {
          "output_type": "stream",
          "name": "stdout",
          "text": [
            "['rollup', 'rollup'] ['criss_cross', 'criss_cross']\n",
            "./validation/criss_cross/11fQiCxMwfjX0.mkv\n"
          ]
        },
        {
          "output_type": "stream",
          "name": "stderr",
          "text": [
            "\r3it [00:05,  1.93s/it]"
          ]
        },
        {
          "output_type": "stream",
          "name": "stdout",
          "text": [
            "['rollup', 'rollup', 'rollup'] ['criss_cross', 'criss_cross', 'criss_cross']\n",
            "./validation/criss_cross/2BSMS3ER8KqU.mkv\n"
          ]
        },
        {
          "output_type": "stream",
          "name": "stderr",
          "text": [
            "\r4it [00:08,  2.05s/it]"
          ]
        },
        {
          "output_type": "stream",
          "name": "stdout",
          "text": [
            "['rollup', 'rollup', 'rollup', 'rollup'] ['criss_cross', 'criss_cross', 'criss_cross', 'criss_cross']\n",
            "./validation/criss_cross/6CzZnlEf-Y8A.mkv\n"
          ]
        },
        {
          "output_type": "stream",
          "name": "stderr",
          "text": [
            "\r5it [00:13,  3.43s/it]"
          ]
        },
        {
          "output_type": "stream",
          "name": "stdout",
          "text": [
            "['rollup', 'rollup', 'rollup', 'rollup', 'rollup'] ['criss_cross', 'criss_cross', 'criss_cross', 'criss_cross', 'criss_cross']\n",
            "./validation/criss_cross/9fQiCxMwfjX0.mkv\n"
          ]
        },
        {
          "output_type": "stream",
          "name": "stderr",
          "text": [
            "\r6it [00:17,  3.59s/it]"
          ]
        },
        {
          "output_type": "stream",
          "name": "stdout",
          "text": [
            "['rollup', 'rollup', 'rollup', 'rollup', 'rollup', 'rollup'] ['criss_cross', 'criss_cross', 'criss_cross', 'criss_cross', 'criss_cross', 'criss_cross']\n",
            "./validation/criss_cross/16scvPiteYVWw.mkv\n"
          ]
        },
        {
          "output_type": "stream",
          "name": "stderr",
          "text": [
            "\r7it [00:23,  4.30s/it]"
          ]
        },
        {
          "output_type": "stream",
          "name": "stdout",
          "text": [
            "['rollup', 'rollup', 'rollup', 'rollup', 'rollup', 'rollup', 'rollup'] ['criss_cross', 'criss_cross', 'criss_cross', 'criss_cross', 'criss_cross', 'criss_cross', 'criss_cross']\n",
            "./validation/criss_cross/7fQiCxMwfjX0.mkv\n"
          ]
        },
        {
          "output_type": "stream",
          "name": "stderr",
          "text": [
            "\r8it [00:29,  4.76s/it]"
          ]
        },
        {
          "output_type": "stream",
          "name": "stdout",
          "text": [
            "['rollup', 'rollup', 'rollup', 'rollup', 'rollup', 'rollup', 'rollup', 'rollup'] ['criss_cross', 'criss_cross', 'criss_cross', 'criss_cross', 'criss_cross', 'criss_cross', 'criss_cross', 'criss_cross']\n",
            "./validation/criss_cross/5o2aamD_J8AM.mkv\n"
          ]
        },
        {
          "output_type": "stream",
          "name": "stderr",
          "text": [
            "\r9it [00:39,  6.58s/it]"
          ]
        },
        {
          "output_type": "stream",
          "name": "stdout",
          "text": [
            "['rollup', 'rollup', 'rollup', 'rollup', 'rollup', 'rollup', 'rollup', 'rollup', 'rollup'] ['criss_cross', 'criss_cross', 'criss_cross', 'criss_cross', 'criss_cross', 'criss_cross', 'criss_cross', 'criss_cross', 'criss_cross']\n",
            "./validation/criss_cross/10fQiCxMwfjX0.mkv\n"
          ]
        },
        {
          "output_type": "stream",
          "name": "stderr",
          "text": [
            "\r10it [00:40,  4.69s/it]"
          ]
        },
        {
          "output_type": "stream",
          "name": "stdout",
          "text": [
            "['rollup', 'rollup', 'rollup', 'rollup', 'rollup', 'rollup', 'rollup', 'rollup', 'rollup', 'rollup'] ['criss_cross', 'criss_cross', 'criss_cross', 'criss_cross', 'criss_cross', 'criss_cross', 'criss_cross', 'criss_cross', 'criss_cross', 'criss_cross']\n",
            "./validation/criss_cross/14VYDOWnxqqyk.mkv\n"
          ]
        },
        {
          "output_type": "stream",
          "name": "stderr",
          "text": [
            "\r11it [00:51,  6.62s/it]"
          ]
        },
        {
          "output_type": "stream",
          "name": "stdout",
          "text": [
            "['rollup', 'rollup', 'rollup', 'rollup', 'rollup', 'rollup', 'rollup', 'rollup', 'rollup', 'rollup', 'rollup'] ['criss_cross', 'criss_cross', 'criss_cross', 'criss_cross', 'criss_cross', 'criss_cross', 'criss_cross', 'criss_cross', 'criss_cross', 'criss_cross', 'criss_cross']\n",
            "./validation/criss_cross/15VYDOWnxqqyk.mkv\n"
          ]
        },
        {
          "output_type": "stream",
          "name": "stderr",
          "text": [
            "\r12it [00:52,  4.85s/it]"
          ]
        },
        {
          "output_type": "stream",
          "name": "stdout",
          "text": [
            "['rollup', 'rollup', 'rollup', 'rollup', 'rollup', 'rollup', 'rollup', 'rollup', 'rollup', 'rollup', 'rollup', 'rollup'] ['criss_cross', 'criss_cross', 'criss_cross', 'criss_cross', 'criss_cross', 'criss_cross', 'criss_cross', 'criss_cross', 'criss_cross', 'criss_cross', 'criss_cross', 'criss_cross']\n",
            "./validation/criss_cross/17scvPiteYVWw.mkv\n"
          ]
        },
        {
          "output_type": "stream",
          "name": "stderr",
          "text": [
            "\r13it [00:54,  4.03s/it]"
          ]
        },
        {
          "output_type": "stream",
          "name": "stdout",
          "text": [
            "['rollup', 'rollup', 'rollup', 'rollup', 'rollup', 'rollup', 'rollup', 'rollup', 'rollup', 'rollup', 'rollup', 'rollup', 'rollup'] ['criss_cross', 'criss_cross', 'criss_cross', 'criss_cross', 'criss_cross', 'criss_cross', 'criss_cross', 'criss_cross', 'criss_cross', 'criss_cross', 'criss_cross', 'criss_cross', 'criss_cross']\n",
            "./validation/criss_cross/13VYDOWnxqqyk.mkv\n"
          ]
        },
        {
          "output_type": "stream",
          "name": "stderr",
          "text": [
            "\r14it [00:55,  3.14s/it]"
          ]
        },
        {
          "output_type": "stream",
          "name": "stdout",
          "text": [
            "['rollup', 'rollup', 'rollup', 'rollup', 'rollup', 'rollup', 'rollup', 'rollup', 'rollup', 'rollup', 'rollup', 'rollup', 'rollup', 'rollup'] ['criss_cross', 'criss_cross', 'criss_cross', 'criss_cross', 'criss_cross', 'criss_cross', 'criss_cross', 'criss_cross', 'criss_cross', 'criss_cross', 'criss_cross', 'criss_cross', 'criss_cross', 'criss_cross']\n",
            "./validation/criss_cross/18scvPiteYVWw.mkv\n"
          ]
        },
        {
          "output_type": "stream",
          "name": "stderr",
          "text": [
            "\r15it [01:01,  3.99s/it]"
          ]
        },
        {
          "output_type": "stream",
          "name": "stdout",
          "text": [
            "['rollup', 'rollup', 'rollup', 'rollup', 'rollup', 'rollup', 'rollup', 'rollup', 'rollup', 'rollup', 'rollup', 'rollup', 'rollup', 'rollup', 'rollup'] ['criss_cross', 'criss_cross', 'criss_cross', 'criss_cross', 'criss_cross', 'criss_cross', 'criss_cross', 'criss_cross', 'criss_cross', 'criss_cross', 'criss_cross', 'criss_cross', 'criss_cross', 'criss_cross', 'criss_cross']\n",
            "./validation/criss_cross/1BSMS3ER8KqU.mkv\n"
          ]
        },
        {
          "output_type": "stream",
          "name": "stderr",
          "text": [
            "\r16it [01:06,  4.48s/it]"
          ]
        },
        {
          "output_type": "stream",
          "name": "stdout",
          "text": [
            "['rollup', 'rollup', 'rollup', 'rollup', 'rollup', 'rollup', 'rollup', 'rollup', 'rollup', 'rollup', 'rollup', 'rollup', 'rollup', 'rollup', 'rollup', 'rollup'] ['criss_cross', 'criss_cross', 'criss_cross', 'criss_cross', 'criss_cross', 'criss_cross', 'criss_cross', 'criss_cross', 'criss_cross', 'criss_cross', 'criss_cross', 'criss_cross', 'criss_cross', 'criss_cross', 'criss_cross', 'criss_cross']\n",
            "./validation/double_leg/11Km1YxK4MO-I.mkv\n"
          ]
        },
        {
          "output_type": "stream",
          "name": "stderr",
          "text": [
            "\r17it [01:10,  4.31s/it]"
          ]
        },
        {
          "output_type": "stream",
          "name": "stdout",
          "text": [
            "['rollup', 'rollup', 'rollup', 'rollup', 'rollup', 'rollup', 'rollup', 'rollup', 'rollup', 'rollup', 'rollup', 'rollup', 'rollup', 'rollup', 'rollup', 'rollup', 'rollup'] ['criss_cross', 'criss_cross', 'criss_cross', 'criss_cross', 'criss_cross', 'criss_cross', 'criss_cross', 'criss_cross', 'criss_cross', 'criss_cross', 'criss_cross', 'criss_cross', 'criss_cross', 'criss_cross', 'criss_cross', 'criss_cross', 'double_leg']\n",
            "./validation/double_leg/12Km1YxK4MO-I.mkv\n"
          ]
        },
        {
          "output_type": "stream",
          "name": "stderr",
          "text": [
            "\r18it [01:16,  4.73s/it]"
          ]
        },
        {
          "output_type": "stream",
          "name": "stdout",
          "text": [
            "['rollup', 'rollup', 'rollup', 'rollup', 'rollup', 'rollup', 'rollup', 'rollup', 'rollup', 'rollup', 'rollup', 'rollup', 'rollup', 'rollup', 'rollup', 'rollup', 'rollup', 'rollup'] ['criss_cross', 'criss_cross', 'criss_cross', 'criss_cross', 'criss_cross', 'criss_cross', 'criss_cross', 'criss_cross', 'criss_cross', 'criss_cross', 'criss_cross', 'criss_cross', 'criss_cross', 'criss_cross', 'criss_cross', 'criss_cross', 'double_leg', 'double_leg']\n",
            "./validation/double_leg/4UdSPPzC4ZEs.mkv\n"
          ]
        },
        {
          "output_type": "stream",
          "name": "stderr",
          "text": [
            "\r19it [01:21,  4.91s/it]"
          ]
        },
        {
          "output_type": "stream",
          "name": "stdout",
          "text": [
            "['rollup', 'rollup', 'rollup', 'rollup', 'rollup', 'rollup', 'rollup', 'rollup', 'rollup', 'rollup', 'rollup', 'rollup', 'rollup', 'rollup', 'rollup', 'rollup', 'rollup', 'rollup', 'rollup'] ['criss_cross', 'criss_cross', 'criss_cross', 'criss_cross', 'criss_cross', 'criss_cross', 'criss_cross', 'criss_cross', 'criss_cross', 'criss_cross', 'criss_cross', 'criss_cross', 'criss_cross', 'criss_cross', 'criss_cross', 'criss_cross', 'double_leg', 'double_leg', 'double_leg']\n",
            "./validation/double_leg/14c6NqE82Pkpg.mkv\n"
          ]
        },
        {
          "output_type": "stream",
          "name": "stderr",
          "text": [
            "\r20it [01:23,  3.78s/it]"
          ]
        },
        {
          "output_type": "stream",
          "name": "stdout",
          "text": [
            "['rollup', 'rollup', 'rollup', 'rollup', 'rollup', 'rollup', 'rollup', 'rollup', 'rollup', 'rollup', 'rollup', 'rollup', 'rollup', 'rollup', 'rollup', 'rollup', 'rollup', 'rollup', 'rollup', 'rollup'] ['criss_cross', 'criss_cross', 'criss_cross', 'criss_cross', 'criss_cross', 'criss_cross', 'criss_cross', 'criss_cross', 'criss_cross', 'criss_cross', 'criss_cross', 'criss_cross', 'criss_cross', 'criss_cross', 'criss_cross', 'criss_cross', 'double_leg', 'double_leg', 'double_leg', 'double_leg']\n",
            "./validation/double_leg/6UdSPPzC4ZEs.mkv\n"
          ]
        },
        {
          "output_type": "stream",
          "name": "stderr",
          "text": [
            "\r21it [01:23,  2.91s/it]"
          ]
        },
        {
          "output_type": "stream",
          "name": "stdout",
          "text": [
            "['rollup', 'rollup', 'rollup', 'rollup', 'rollup', 'rollup', 'rollup', 'rollup', 'rollup', 'rollup', 'rollup', 'rollup', 'rollup', 'rollup', 'rollup', 'rollup', 'rollup', 'rollup', 'rollup', 'rollup', 'rollup'] ['criss_cross', 'criss_cross', 'criss_cross', 'criss_cross', 'criss_cross', 'criss_cross', 'criss_cross', 'criss_cross', 'criss_cross', 'criss_cross', 'criss_cross', 'criss_cross', 'criss_cross', 'criss_cross', 'criss_cross', 'criss_cross', 'double_leg', 'double_leg', 'double_leg', 'double_leg', 'double_leg']\n",
            "./validation/double_leg/13c6NqE82Pkpg.mkv\n"
          ]
        },
        {
          "output_type": "stream",
          "name": "stderr",
          "text": [
            "\r22it [01:25,  2.38s/it]"
          ]
        },
        {
          "output_type": "stream",
          "name": "stdout",
          "text": [
            "['rollup', 'rollup', 'rollup', 'rollup', 'rollup', 'rollup', 'rollup', 'rollup', 'rollup', 'rollup', 'rollup', 'rollup', 'rollup', 'rollup', 'rollup', 'rollup', 'rollup', 'rollup', 'rollup', 'rollup', 'rollup', 'rollup'] ['criss_cross', 'criss_cross', 'criss_cross', 'criss_cross', 'criss_cross', 'criss_cross', 'criss_cross', 'criss_cross', 'criss_cross', 'criss_cross', 'criss_cross', 'criss_cross', 'criss_cross', 'criss_cross', 'criss_cross', 'criss_cross', 'double_leg', 'double_leg', 'double_leg', 'double_leg', 'double_leg', 'double_leg']\n",
            "./validation/double_leg/8q0FDZiwkCek.mkv\n"
          ]
        },
        {
          "output_type": "stream",
          "name": "stderr",
          "text": [
            "\r23it [01:27,  2.52s/it]"
          ]
        },
        {
          "output_type": "stream",
          "name": "stdout",
          "text": [
            "['rollup', 'rollup', 'rollup', 'rollup', 'rollup', 'rollup', 'rollup', 'rollup', 'rollup', 'rollup', 'rollup', 'rollup', 'rollup', 'rollup', 'rollup', 'rollup', 'rollup', 'rollup', 'rollup', 'rollup', 'rollup', 'rollup', 'rollup'] ['criss_cross', 'criss_cross', 'criss_cross', 'criss_cross', 'criss_cross', 'criss_cross', 'criss_cross', 'criss_cross', 'criss_cross', 'criss_cross', 'criss_cross', 'criss_cross', 'criss_cross', 'criss_cross', 'criss_cross', 'criss_cross', 'double_leg', 'double_leg', 'double_leg', 'double_leg', 'double_leg', 'double_leg', 'double_leg']\n",
            "./validation/double_leg/5UdSPPzC4ZEs.mkv\n"
          ]
        },
        {
          "output_type": "stream",
          "name": "stderr",
          "text": [
            "\r24it [01:31,  2.76s/it]"
          ]
        },
        {
          "output_type": "stream",
          "name": "stdout",
          "text": [
            "['rollup', 'rollup', 'rollup', 'rollup', 'rollup', 'rollup', 'rollup', 'rollup', 'rollup', 'rollup', 'rollup', 'rollup', 'rollup', 'rollup', 'rollup', 'rollup', 'rollup', 'rollup', 'rollup', 'rollup', 'rollup', 'rollup', 'rollup', 'rollup'] ['criss_cross', 'criss_cross', 'criss_cross', 'criss_cross', 'criss_cross', 'criss_cross', 'criss_cross', 'criss_cross', 'criss_cross', 'criss_cross', 'criss_cross', 'criss_cross', 'criss_cross', 'criss_cross', 'criss_cross', 'criss_cross', 'double_leg', 'double_leg', 'double_leg', 'double_leg', 'double_leg', 'double_leg', 'double_leg', 'double_leg']\n",
            "./validation/double_leg/0UdSPPzC4ZEs.mkv\n"
          ]
        },
        {
          "output_type": "stream",
          "name": "stderr",
          "text": [
            "\r25it [01:32,  2.27s/it]"
          ]
        },
        {
          "output_type": "stream",
          "name": "stdout",
          "text": [
            "['rollup', 'rollup', 'rollup', 'rollup', 'rollup', 'rollup', 'rollup', 'rollup', 'rollup', 'rollup', 'rollup', 'rollup', 'rollup', 'rollup', 'rollup', 'rollup', 'rollup', 'rollup', 'rollup', 'rollup', 'rollup', 'rollup', 'rollup', 'rollup', 'rollup'] ['criss_cross', 'criss_cross', 'criss_cross', 'criss_cross', 'criss_cross', 'criss_cross', 'criss_cross', 'criss_cross', 'criss_cross', 'criss_cross', 'criss_cross', 'criss_cross', 'criss_cross', 'criss_cross', 'criss_cross', 'criss_cross', 'double_leg', 'double_leg', 'double_leg', 'double_leg', 'double_leg', 'double_leg', 'double_leg', 'double_leg', 'double_leg']\n",
            "./validation/double_leg/2UdSPPzC4ZEs.mkv\n"
          ]
        },
        {
          "output_type": "stream",
          "name": "stderr",
          "text": [
            "\r26it [01:38,  3.39s/it]"
          ]
        },
        {
          "output_type": "stream",
          "name": "stdout",
          "text": [
            "['rollup', 'rollup', 'rollup', 'rollup', 'rollup', 'rollup', 'rollup', 'rollup', 'rollup', 'rollup', 'rollup', 'rollup', 'rollup', 'rollup', 'rollup', 'rollup', 'rollup', 'rollup', 'rollup', 'rollup', 'rollup', 'rollup', 'rollup', 'rollup', 'rollup', 'rollup'] ['criss_cross', 'criss_cross', 'criss_cross', 'criss_cross', 'criss_cross', 'criss_cross', 'criss_cross', 'criss_cross', 'criss_cross', 'criss_cross', 'criss_cross', 'criss_cross', 'criss_cross', 'criss_cross', 'criss_cross', 'criss_cross', 'double_leg', 'double_leg', 'double_leg', 'double_leg', 'double_leg', 'double_leg', 'double_leg', 'double_leg', 'double_leg', 'double_leg']\n",
            "./validation/double_leg/16c6NqE82Pkpg.mkv\n"
          ]
        },
        {
          "output_type": "stream",
          "name": "stderr",
          "text": [
            "\r27it [01:49,  5.79s/it]"
          ]
        },
        {
          "output_type": "stream",
          "name": "stdout",
          "text": [
            "['rollup', 'rollup', 'rollup', 'rollup', 'rollup', 'rollup', 'rollup', 'rollup', 'rollup', 'rollup', 'rollup', 'rollup', 'rollup', 'rollup', 'rollup', 'rollup', 'rollup', 'rollup', 'rollup', 'rollup', 'rollup', 'rollup', 'rollup', 'rollup', 'rollup', 'rollup', 'rollup'] ['criss_cross', 'criss_cross', 'criss_cross', 'criss_cross', 'criss_cross', 'criss_cross', 'criss_cross', 'criss_cross', 'criss_cross', 'criss_cross', 'criss_cross', 'criss_cross', 'criss_cross', 'criss_cross', 'criss_cross', 'criss_cross', 'double_leg', 'double_leg', 'double_leg', 'double_leg', 'double_leg', 'double_leg', 'double_leg', 'double_leg', 'double_leg', 'double_leg', 'double_leg']\n",
            "./validation/double_leg/9q0FDZiwkCek.mkv\n"
          ]
        },
        {
          "output_type": "stream",
          "name": "stderr",
          "text": [
            "\r28it [02:01,  7.52s/it]"
          ]
        },
        {
          "output_type": "stream",
          "name": "stdout",
          "text": [
            "['rollup', 'rollup', 'rollup', 'rollup', 'rollup', 'rollup', 'rollup', 'rollup', 'rollup', 'rollup', 'rollup', 'rollup', 'rollup', 'rollup', 'rollup', 'rollup', 'rollup', 'rollup', 'rollup', 'rollup', 'rollup', 'rollup', 'rollup', 'rollup', 'rollup', 'rollup', 'rollup', 'rollup'] ['criss_cross', 'criss_cross', 'criss_cross', 'criss_cross', 'criss_cross', 'criss_cross', 'criss_cross', 'criss_cross', 'criss_cross', 'criss_cross', 'criss_cross', 'criss_cross', 'criss_cross', 'criss_cross', 'criss_cross', 'criss_cross', 'double_leg', 'double_leg', 'double_leg', 'double_leg', 'double_leg', 'double_leg', 'double_leg', 'double_leg', 'double_leg', 'double_leg', 'double_leg', 'double_leg']\n",
            "./validation/double_leg/3UdSPPzC4ZEs.mkv\n"
          ]
        },
        {
          "output_type": "stream",
          "name": "stderr",
          "text": [
            "\r29it [02:04,  6.31s/it]"
          ]
        },
        {
          "output_type": "stream",
          "name": "stdout",
          "text": [
            "['rollup', 'rollup', 'rollup', 'rollup', 'rollup', 'rollup', 'rollup', 'rollup', 'rollup', 'rollup', 'rollup', 'rollup', 'rollup', 'rollup', 'rollup', 'rollup', 'rollup', 'rollup', 'rollup', 'rollup', 'rollup', 'rollup', 'rollup', 'rollup', 'rollup', 'rollup', 'rollup', 'rollup', 'rollup'] ['criss_cross', 'criss_cross', 'criss_cross', 'criss_cross', 'criss_cross', 'criss_cross', 'criss_cross', 'criss_cross', 'criss_cross', 'criss_cross', 'criss_cross', 'criss_cross', 'criss_cross', 'criss_cross', 'criss_cross', 'criss_cross', 'double_leg', 'double_leg', 'double_leg', 'double_leg', 'double_leg', 'double_leg', 'double_leg', 'double_leg', 'double_leg', 'double_leg', 'double_leg', 'double_leg', 'double_leg']\n",
            "./validation/double_leg/10Km1YxK4MO-I.mkv\n"
          ]
        },
        {
          "output_type": "stream",
          "name": "stderr",
          "text": [
            "\r30it [02:06,  4.84s/it]"
          ]
        },
        {
          "output_type": "stream",
          "name": "stdout",
          "text": [
            "['rollup', 'rollup', 'rollup', 'rollup', 'rollup', 'rollup', 'rollup', 'rollup', 'rollup', 'rollup', 'rollup', 'rollup', 'rollup', 'rollup', 'rollup', 'rollup', 'rollup', 'rollup', 'rollup', 'rollup', 'rollup', 'rollup', 'rollup', 'rollup', 'rollup', 'rollup', 'rollup', 'rollup', 'rollup', 'rollup'] ['criss_cross', 'criss_cross', 'criss_cross', 'criss_cross', 'criss_cross', 'criss_cross', 'criss_cross', 'criss_cross', 'criss_cross', 'criss_cross', 'criss_cross', 'criss_cross', 'criss_cross', 'criss_cross', 'criss_cross', 'criss_cross', 'double_leg', 'double_leg', 'double_leg', 'double_leg', 'double_leg', 'double_leg', 'double_leg', 'double_leg', 'double_leg', 'double_leg', 'double_leg', 'double_leg', 'double_leg', 'double_leg']\n",
            "./validation/double_leg/7q0FDZiwkCek.mkv\n"
          ]
        },
        {
          "output_type": "stream",
          "name": "stderr",
          "text": [
            "\r31it [02:08,  4.02s/it]"
          ]
        },
        {
          "output_type": "stream",
          "name": "stdout",
          "text": [
            "['rollup', 'rollup', 'rollup', 'rollup', 'rollup', 'rollup', 'rollup', 'rollup', 'rollup', 'rollup', 'rollup', 'rollup', 'rollup', 'rollup', 'rollup', 'rollup', 'rollup', 'rollup', 'rollup', 'rollup', 'rollup', 'rollup', 'rollup', 'rollup', 'rollup', 'rollup', 'rollup', 'rollup', 'rollup', 'rollup', 'rollup'] ['criss_cross', 'criss_cross', 'criss_cross', 'criss_cross', 'criss_cross', 'criss_cross', 'criss_cross', 'criss_cross', 'criss_cross', 'criss_cross', 'criss_cross', 'criss_cross', 'criss_cross', 'criss_cross', 'criss_cross', 'criss_cross', 'double_leg', 'double_leg', 'double_leg', 'double_leg', 'double_leg', 'double_leg', 'double_leg', 'double_leg', 'double_leg', 'double_leg', 'double_leg', 'double_leg', 'double_leg', 'double_leg', 'double_leg']\n",
            "./validation/rollup/2FZNwIJ03fhQ.mkv\n"
          ]
        },
        {
          "output_type": "stream",
          "name": "stderr",
          "text": [
            "\r32it [02:15,  4.88s/it]"
          ]
        },
        {
          "output_type": "stream",
          "name": "stdout",
          "text": [
            "['rollup', 'rollup', 'rollup', 'rollup', 'rollup', 'rollup', 'rollup', 'rollup', 'rollup', 'rollup', 'rollup', 'rollup', 'rollup', 'rollup', 'rollup', 'rollup', 'rollup', 'rollup', 'rollup', 'rollup', 'rollup', 'rollup', 'rollup', 'rollup', 'rollup', 'rollup', 'rollup', 'rollup', 'rollup', 'rollup', 'rollup', 'rollup'] ['criss_cross', 'criss_cross', 'criss_cross', 'criss_cross', 'criss_cross', 'criss_cross', 'criss_cross', 'criss_cross', 'criss_cross', 'criss_cross', 'criss_cross', 'criss_cross', 'criss_cross', 'criss_cross', 'criss_cross', 'criss_cross', 'double_leg', 'double_leg', 'double_leg', 'double_leg', 'double_leg', 'double_leg', 'double_leg', 'double_leg', 'double_leg', 'double_leg', 'double_leg', 'double_leg', 'double_leg', 'double_leg', 'double_leg', 'rollup']\n",
            "./validation/rollup/1HB9ex7zlpcE.mkv\n"
          ]
        },
        {
          "output_type": "stream",
          "name": "stderr",
          "text": [
            "\r33it [02:18,  4.49s/it]"
          ]
        },
        {
          "output_type": "stream",
          "name": "stdout",
          "text": [
            "['rollup', 'rollup', 'rollup', 'rollup', 'rollup', 'rollup', 'rollup', 'rollup', 'rollup', 'rollup', 'rollup', 'rollup', 'rollup', 'rollup', 'rollup', 'rollup', 'rollup', 'rollup', 'rollup', 'rollup', 'rollup', 'rollup', 'rollup', 'rollup', 'rollup', 'rollup', 'rollup', 'rollup', 'rollup', 'rollup', 'rollup', 'rollup', 'rollup'] ['criss_cross', 'criss_cross', 'criss_cross', 'criss_cross', 'criss_cross', 'criss_cross', 'criss_cross', 'criss_cross', 'criss_cross', 'criss_cross', 'criss_cross', 'criss_cross', 'criss_cross', 'criss_cross', 'criss_cross', 'criss_cross', 'double_leg', 'double_leg', 'double_leg', 'double_leg', 'double_leg', 'double_leg', 'double_leg', 'double_leg', 'double_leg', 'double_leg', 'double_leg', 'double_leg', 'double_leg', 'double_leg', 'double_leg', 'rollup', 'rollup']\n",
            "./validation/rollup/6QCXlenJqEoc.mkv\n"
          ]
        },
        {
          "output_type": "stream",
          "name": "stderr",
          "text": [
            "\r34it [02:25,  5.20s/it]"
          ]
        },
        {
          "output_type": "stream",
          "name": "stdout",
          "text": [
            "['rollup', 'rollup', 'rollup', 'rollup', 'rollup', 'rollup', 'rollup', 'rollup', 'rollup', 'rollup', 'rollup', 'rollup', 'rollup', 'rollup', 'rollup', 'rollup', 'rollup', 'rollup', 'rollup', 'rollup', 'rollup', 'rollup', 'rollup', 'rollup', 'rollup', 'rollup', 'rollup', 'rollup', 'rollup', 'rollup', 'rollup', 'rollup', 'rollup', 'rollup'] ['criss_cross', 'criss_cross', 'criss_cross', 'criss_cross', 'criss_cross', 'criss_cross', 'criss_cross', 'criss_cross', 'criss_cross', 'criss_cross', 'criss_cross', 'criss_cross', 'criss_cross', 'criss_cross', 'criss_cross', 'criss_cross', 'double_leg', 'double_leg', 'double_leg', 'double_leg', 'double_leg', 'double_leg', 'double_leg', 'double_leg', 'double_leg', 'double_leg', 'double_leg', 'double_leg', 'double_leg', 'double_leg', 'double_leg', 'rollup', 'rollup', 'rollup']\n",
            "./validation/rollup/9S7kw7kU2hrI.mkv\n"
          ]
        },
        {
          "output_type": "stream",
          "name": "stderr",
          "text": [
            "\r35it [02:28,  4.55s/it]"
          ]
        },
        {
          "output_type": "stream",
          "name": "stdout",
          "text": [
            "['rollup', 'rollup', 'rollup', 'rollup', 'rollup', 'rollup', 'rollup', 'rollup', 'rollup', 'rollup', 'rollup', 'rollup', 'rollup', 'rollup', 'rollup', 'rollup', 'rollup', 'rollup', 'rollup', 'rollup', 'rollup', 'rollup', 'rollup', 'rollup', 'rollup', 'rollup', 'rollup', 'rollup', 'rollup', 'rollup', 'rollup', 'rollup', 'rollup', 'rollup', 'rollup'] ['criss_cross', 'criss_cross', 'criss_cross', 'criss_cross', 'criss_cross', 'criss_cross', 'criss_cross', 'criss_cross', 'criss_cross', 'criss_cross', 'criss_cross', 'criss_cross', 'criss_cross', 'criss_cross', 'criss_cross', 'criss_cross', 'double_leg', 'double_leg', 'double_leg', 'double_leg', 'double_leg', 'double_leg', 'double_leg', 'double_leg', 'double_leg', 'double_leg', 'double_leg', 'double_leg', 'double_leg', 'double_leg', 'double_leg', 'rollup', 'rollup', 'rollup', 'rollup']\n",
            "./validation/rollup/8S7kw7kU2hrI.mkv\n"
          ]
        },
        {
          "output_type": "stream",
          "name": "stderr",
          "text": [
            "\r36it [02:36,  5.64s/it]"
          ]
        },
        {
          "output_type": "stream",
          "name": "stdout",
          "text": [
            "['rollup', 'rollup', 'rollup', 'rollup', 'rollup', 'rollup', 'rollup', 'rollup', 'rollup', 'rollup', 'rollup', 'rollup', 'rollup', 'rollup', 'rollup', 'rollup', 'rollup', 'rollup', 'rollup', 'rollup', 'rollup', 'rollup', 'rollup', 'rollup', 'rollup', 'rollup', 'rollup', 'rollup', 'rollup', 'rollup', 'rollup', 'rollup', 'rollup', 'rollup', 'rollup', 'rollup'] ['criss_cross', 'criss_cross', 'criss_cross', 'criss_cross', 'criss_cross', 'criss_cross', 'criss_cross', 'criss_cross', 'criss_cross', 'criss_cross', 'criss_cross', 'criss_cross', 'criss_cross', 'criss_cross', 'criss_cross', 'criss_cross', 'double_leg', 'double_leg', 'double_leg', 'double_leg', 'double_leg', 'double_leg', 'double_leg', 'double_leg', 'double_leg', 'double_leg', 'double_leg', 'double_leg', 'double_leg', 'double_leg', 'double_leg', 'rollup', 'rollup', 'rollup', 'rollup', 'rollup']\n",
            "./validation/rollup/3K1wldTaylZU.mkv\n"
          ]
        },
        {
          "output_type": "stream",
          "name": "stderr",
          "text": [
            "\r37it [02:40,  5.10s/it]"
          ]
        },
        {
          "output_type": "stream",
          "name": "stdout",
          "text": [
            "['rollup', 'rollup', 'rollup', 'rollup', 'rollup', 'rollup', 'rollup', 'rollup', 'rollup', 'rollup', 'rollup', 'rollup', 'rollup', 'rollup', 'rollup', 'rollup', 'rollup', 'rollup', 'rollup', 'rollup', 'rollup', 'rollup', 'rollup', 'rollup', 'rollup', 'rollup', 'rollup', 'rollup', 'rollup', 'rollup', 'rollup', 'rollup', 'rollup', 'rollup', 'rollup', 'rollup', 'rollup'] ['criss_cross', 'criss_cross', 'criss_cross', 'criss_cross', 'criss_cross', 'criss_cross', 'criss_cross', 'criss_cross', 'criss_cross', 'criss_cross', 'criss_cross', 'criss_cross', 'criss_cross', 'criss_cross', 'criss_cross', 'criss_cross', 'double_leg', 'double_leg', 'double_leg', 'double_leg', 'double_leg', 'double_leg', 'double_leg', 'double_leg', 'double_leg', 'double_leg', 'double_leg', 'double_leg', 'double_leg', 'double_leg', 'double_leg', 'rollup', 'rollup', 'rollup', 'rollup', 'rollup', 'rollup']\n",
            "./validation/rollup/5NwYyamStxB4.mkv\n"
          ]
        },
        {
          "output_type": "stream",
          "name": "stderr",
          "text": [
            "\r38it [02:44,  4.81s/it]"
          ]
        },
        {
          "output_type": "stream",
          "name": "stdout",
          "text": [
            "['rollup', 'rollup', 'rollup', 'rollup', 'rollup', 'rollup', 'rollup', 'rollup', 'rollup', 'rollup', 'rollup', 'rollup', 'rollup', 'rollup', 'rollup', 'rollup', 'rollup', 'rollup', 'rollup', 'rollup', 'rollup', 'rollup', 'rollup', 'rollup', 'rollup', 'rollup', 'rollup', 'rollup', 'rollup', 'rollup', 'rollup', 'rollup', 'rollup', 'rollup', 'rollup', 'rollup', 'rollup', 'rollup'] ['criss_cross', 'criss_cross', 'criss_cross', 'criss_cross', 'criss_cross', 'criss_cross', 'criss_cross', 'criss_cross', 'criss_cross', 'criss_cross', 'criss_cross', 'criss_cross', 'criss_cross', 'criss_cross', 'criss_cross', 'criss_cross', 'double_leg', 'double_leg', 'double_leg', 'double_leg', 'double_leg', 'double_leg', 'double_leg', 'double_leg', 'double_leg', 'double_leg', 'double_leg', 'double_leg', 'double_leg', 'double_leg', 'double_leg', 'rollup', 'rollup', 'rollup', 'rollup', 'rollup', 'rollup', 'rollup']\n",
            "./validation/rollup/4NwYyamStxB4.mkv\n"
          ]
        },
        {
          "output_type": "stream",
          "name": "stderr",
          "text": [
            "\r39it [02:52,  5.79s/it]"
          ]
        },
        {
          "output_type": "stream",
          "name": "stdout",
          "text": [
            "['rollup', 'rollup', 'rollup', 'rollup', 'rollup', 'rollup', 'rollup', 'rollup', 'rollup', 'rollup', 'rollup', 'rollup', 'rollup', 'rollup', 'rollup', 'rollup', 'rollup', 'rollup', 'rollup', 'rollup', 'rollup', 'rollup', 'rollup', 'rollup', 'rollup', 'rollup', 'rollup', 'rollup', 'rollup', 'rollup', 'rollup', 'rollup', 'rollup', 'rollup', 'rollup', 'rollup', 'rollup', 'rollup', 'rollup'] ['criss_cross', 'criss_cross', 'criss_cross', 'criss_cross', 'criss_cross', 'criss_cross', 'criss_cross', 'criss_cross', 'criss_cross', 'criss_cross', 'criss_cross', 'criss_cross', 'criss_cross', 'criss_cross', 'criss_cross', 'criss_cross', 'double_leg', 'double_leg', 'double_leg', 'double_leg', 'double_leg', 'double_leg', 'double_leg', 'double_leg', 'double_leg', 'double_leg', 'double_leg', 'double_leg', 'double_leg', 'double_leg', 'double_leg', 'rollup', 'rollup', 'rollup', 'rollup', 'rollup', 'rollup', 'rollup', 'rollup']\n",
            "./validation/rollup/0HB9ex7zlpcE.mkv\n"
          ]
        },
        {
          "output_type": "stream",
          "name": "stderr",
          "text": [
            "\r40it [02:57,  5.30s/it]"
          ]
        },
        {
          "output_type": "stream",
          "name": "stdout",
          "text": [
            "['rollup', 'rollup', 'rollup', 'rollup', 'rollup', 'rollup', 'rollup', 'rollup', 'rollup', 'rollup', 'rollup', 'rollup', 'rollup', 'rollup', 'rollup', 'rollup', 'rollup', 'rollup', 'rollup', 'rollup', 'rollup', 'rollup', 'rollup', 'rollup', 'rollup', 'rollup', 'rollup', 'rollup', 'rollup', 'rollup', 'rollup', 'rollup', 'rollup', 'rollup', 'rollup', 'rollup', 'rollup', 'rollup', 'rollup', 'rollup'] ['criss_cross', 'criss_cross', 'criss_cross', 'criss_cross', 'criss_cross', 'criss_cross', 'criss_cross', 'criss_cross', 'criss_cross', 'criss_cross', 'criss_cross', 'criss_cross', 'criss_cross', 'criss_cross', 'criss_cross', 'criss_cross', 'double_leg', 'double_leg', 'double_leg', 'double_leg', 'double_leg', 'double_leg', 'double_leg', 'double_leg', 'double_leg', 'double_leg', 'double_leg', 'double_leg', 'double_leg', 'double_leg', 'double_leg', 'rollup', 'rollup', 'rollup', 'rollup', 'rollup', 'rollup', 'rollup', 'rollup', 'rollup']\n",
            "./validation/rollup/7S7kw7kU2hrI.mkv\n"
          ]
        },
        {
          "output_type": "stream",
          "name": "stderr",
          "text": [
            "41it [03:02,  4.45s/it]"
          ]
        },
        {
          "output_type": "stream",
          "name": "stdout",
          "text": [
            "['rollup', 'rollup', 'rollup', 'rollup', 'rollup', 'rollup', 'rollup', 'rollup', 'rollup', 'rollup', 'rollup', 'rollup', 'rollup', 'rollup', 'rollup', 'rollup', 'rollup', 'rollup', 'rollup', 'rollup', 'rollup', 'rollup', 'rollup', 'rollup', 'rollup', 'rollup', 'rollup', 'rollup', 'rollup', 'rollup', 'rollup', 'rollup', 'rollup', 'rollup', 'rollup', 'rollup', 'rollup', 'rollup', 'rollup', 'rollup', 'rollup'] ['criss_cross', 'criss_cross', 'criss_cross', 'criss_cross', 'criss_cross', 'criss_cross', 'criss_cross', 'criss_cross', 'criss_cross', 'criss_cross', 'criss_cross', 'criss_cross', 'criss_cross', 'criss_cross', 'criss_cross', 'criss_cross', 'double_leg', 'double_leg', 'double_leg', 'double_leg', 'double_leg', 'double_leg', 'double_leg', 'double_leg', 'double_leg', 'double_leg', 'double_leg', 'double_leg', 'double_leg', 'double_leg', 'double_leg', 'rollup', 'rollup', 'rollup', 'rollup', 'rollup', 'rollup', 'rollup', 'rollup', 'rollup', 'rollup']\n"
          ]
        },
        {
          "output_type": "stream",
          "name": "stderr",
          "text": [
            "\n"
          ]
        }
      ]
    },
    {
      "cell_type": "code",
      "metadata": {
        "ExecuteTime": {
          "end_time": "2021-08-20T10:03:12.185236Z",
          "start_time": "2021-08-20T10:03:12.180025Z"
        },
        "colab": {
          "base_uri": "https://localhost:8080/"
        },
        "id": "TsevoQFhobx-",
        "outputId": "a06b5ab0-73c4-4699-f93b-deaf9e08b11a"
      },
      "source": [
        "tags"
      ],
      "execution_count": null,
      "outputs": [
        {
          "output_type": "execute_result",
          "data": {
            "text/plain": [
              "['criss_cross', 'double_leg', 'rollup']"
            ]
          },
          "metadata": {},
          "execution_count": 47
        }
      ]
    },
    {
      "cell_type": "code",
      "metadata": {
        "id": "Rvsgsd9Kobx-"
      },
      "source": [
        "#  ['rollup'] ['double_leg', 'rollup', 'train', 'criss_cross']"
      ],
      "execution_count": null,
      "outputs": []
    },
    {
      "cell_type": "code",
      "metadata": {
        "ExecuteTime": {
          "end_time": "2021-08-20T09:11:38.036732Z",
          "start_time": "2021-08-20T09:11:38.031441Z"
        },
        "id": "n6JaBwkT-b2X",
        "colab": {
          "base_uri": "https://localhost:8080/"
        },
        "outputId": "d55edcb2-4c78-4aa8-aeb4-87949e4bfc45"
      },
      "source": [
        "type(y)"
      ],
      "execution_count": null,
      "outputs": [
        {
          "output_type": "execute_result",
          "data": {
            "text/plain": [
              "pandas.core.frame.DataFrame"
            ]
          },
          "metadata": {},
          "execution_count": 48
        }
      ]
    },
    {
      "cell_type": "code",
      "metadata": {
        "ExecuteTime": {
          "end_time": "2021-08-20T09:11:51.762849Z",
          "start_time": "2021-08-20T09:11:51.756133Z"
        },
        "colab": {
          "base_uri": "https://localhost:8080/",
          "height": 204
        },
        "id": "buE87AS8obx-",
        "outputId": "3bfacd98-0eeb-40a5-96a7-51af09cb97c3"
      },
      "source": [
        "y.head()"
      ],
      "execution_count": null,
      "outputs": [
        {
          "output_type": "execute_result",
          "data": {
            "text/html": [
              "<div>\n",
              "<style scoped>\n",
              "    .dataframe tbody tr th:only-of-type {\n",
              "        vertical-align: middle;\n",
              "    }\n",
              "\n",
              "    .dataframe tbody tr th {\n",
              "        vertical-align: top;\n",
              "    }\n",
              "\n",
              "    .dataframe thead th {\n",
              "        text-align: right;\n",
              "    }\n",
              "</style>\n",
              "<table border=\"1\" class=\"dataframe\">\n",
              "  <thead>\n",
              "    <tr style=\"text-align: right;\">\n",
              "      <th></th>\n",
              "      <th>criss_cross</th>\n",
              "      <th>double_leg</th>\n",
              "      <th>rollup</th>\n",
              "    </tr>\n",
              "  </thead>\n",
              "  <tbody>\n",
              "    <tr>\n",
              "      <th>0</th>\n",
              "      <td>1</td>\n",
              "      <td>0</td>\n",
              "      <td>0</td>\n",
              "    </tr>\n",
              "    <tr>\n",
              "      <th>1</th>\n",
              "      <td>1</td>\n",
              "      <td>0</td>\n",
              "      <td>0</td>\n",
              "    </tr>\n",
              "    <tr>\n",
              "      <th>2</th>\n",
              "      <td>1</td>\n",
              "      <td>0</td>\n",
              "      <td>0</td>\n",
              "    </tr>\n",
              "    <tr>\n",
              "      <th>3</th>\n",
              "      <td>1</td>\n",
              "      <td>0</td>\n",
              "      <td>0</td>\n",
              "    </tr>\n",
              "    <tr>\n",
              "      <th>4</th>\n",
              "      <td>1</td>\n",
              "      <td>0</td>\n",
              "      <td>0</td>\n",
              "    </tr>\n",
              "  </tbody>\n",
              "</table>\n",
              "</div>"
            ],
            "text/plain": [
              "   criss_cross  double_leg  rollup\n",
              "0            1           0       0\n",
              "1            1           0       0\n",
              "2            1           0       0\n",
              "3            1           0       0\n",
              "4            1           0       0"
            ]
          },
          "metadata": {},
          "execution_count": 49
        }
      ]
    },
    {
      "cell_type": "code",
      "metadata": {
        "ExecuteTime": {
          "end_time": "2021-08-20T09:52:00.146010Z",
          "start_time": "2021-08-20T09:52:00.050993Z"
        },
        "colab": {
          "base_uri": "https://localhost:8080/"
        },
        "id": "jYpKvALsobx-",
        "outputId": "aa5a6772-9455-409d-c170-ba06c27caa7f"
      },
      "source": [
        "# checking the accuracy of the predicted tags\n",
        "from sklearn.metrics import accuracy_score\n",
        "accuracy_score(predict, actual)*100"
      ],
      "execution_count": null,
      "outputs": [
        {
          "output_type": "execute_result",
          "data": {
            "text/plain": [
              "24.390243902439025"
            ]
          },
          "metadata": {},
          "execution_count": 50
        }
      ]
    },
    {
      "cell_type": "code",
      "metadata": {
        "ExecuteTime": {
          "end_time": "2021-08-20T09:52:16.596960Z",
          "start_time": "2021-08-20T09:52:16.592777Z"
        },
        "id": "TPQkSCsJobx_",
        "outputId": "58736616-a1cd-4369-e010-f42bec83305a"
      },
      "source": [
        "type(predict)"
      ],
      "execution_count": null,
      "outputs": [
        {
          "data": {
            "text/plain": [
              "list"
            ]
          },
          "execution_count": 146,
          "metadata": {},
          "output_type": "execute_result"
        }
      ]
    },
    {
      "cell_type": "code",
      "metadata": {
        "ExecuteTime": {
          "end_time": "2021-08-20T09:52:24.997378Z",
          "start_time": "2021-08-20T09:52:24.993055Z"
        },
        "id": "3QWcbCzqobx_",
        "outputId": "8198c893-8ec3-407f-91ca-9798bb6a1d16"
      },
      "source": [
        "type(actual)"
      ],
      "execution_count": null,
      "outputs": [
        {
          "data": {
            "text/plain": [
              "list"
            ]
          },
          "execution_count": 147,
          "metadata": {},
          "output_type": "execute_result"
        }
      ]
    },
    {
      "cell_type": "code",
      "metadata": {
        "ExecuteTime": {
          "end_time": "2021-08-20T09:52:29.585434Z",
          "start_time": "2021-08-20T09:52:29.577016Z"
        },
        "id": "qyzfmX6uobx_",
        "outputId": "8fac400a-1f9e-4f46-b018-f5cad6b43ba0"
      },
      "source": [
        "len(predict)"
      ],
      "execution_count": null,
      "outputs": [
        {
          "data": {
            "text/plain": [
              "40"
            ]
          },
          "execution_count": 157,
          "metadata": {},
          "output_type": "execute_result"
        }
      ]
    },
    {
      "cell_type": "code",
      "metadata": {
        "ExecuteTime": {
          "end_time": "2021-08-20T09:52:34.129976Z",
          "start_time": "2021-08-20T09:52:34.126218Z"
        },
        "id": "F7WJYBiPobx_",
        "outputId": "3f1502cb-b279-419b-c1ab-ef7a9bdf2f4a"
      },
      "source": [
        "len(actual)"
      ],
      "execution_count": null,
      "outputs": [
        {
          "data": {
            "text/plain": [
              "40"
            ]
          },
          "execution_count": 156,
          "metadata": {},
          "output_type": "execute_result"
        }
      ]
    },
    {
      "cell_type": "code",
      "metadata": {
        "ExecuteTime": {
          "end_time": "2021-08-20T10:01:05.819367Z",
          "start_time": "2021-08-20T10:01:05.815271Z"
        },
        "id": "sVEFe3-mobx_",
        "outputId": "bd76ffbd-c420-42f1-e8a7-ab34ee0732bd"
      },
      "source": [
        "df_validation.shape"
      ],
      "execution_count": null,
      "outputs": [
        {
          "data": {
            "text/plain": [
              "(40, 2)"
            ]
          },
          "execution_count": 158,
          "metadata": {},
          "output_type": "execute_result"
        }
      ]
    },
    {
      "cell_type": "code",
      "metadata": {
        "id": "ObdCBQOkobx_"
      },
      "source": [
        ""
      ],
      "execution_count": null,
      "outputs": []
    }
  ]
}
